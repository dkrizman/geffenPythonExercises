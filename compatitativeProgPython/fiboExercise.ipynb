{
 "metadata": {
  "language_info": {
   "codemirror_mode": {
    "name": "ipython",
    "version": 3
   },
   "file_extension": ".py",
   "mimetype": "text/x-python",
   "name": "python",
   "nbconvert_exporter": "python",
   "pygments_lexer": "ipython3",
   "version": "3.7.4"
  },
  "orig_nbformat": 2,
  "kernelspec": {
   "name": "python374jvsc74a57bd0ed3bb7afc59ed97cf88a0907716fbdc242e5af871b22b080c23a3e1b24d1e4e3",
   "display_name": "Python 3.7.4 64-bit ('base': conda)"
  }
 },
 "nbformat": 4,
 "nbformat_minor": 2,
 "cells": [
  {
   "cell_type": "code",
   "execution_count": 27,
   "metadata": {},
   "outputs": [
    {
     "output_type": "execute_result",
     "data": {
      "text/plain": [
       "4807526976"
      ]
     },
     "metadata": {},
     "execution_count": 27
    }
   ],
   "source": [
    "from functools import lru_cache\n",
    "\n",
    "@lru_cache(maxsize = None)\n",
    "def fiboNaive(n):\n",
    "    if n<=1:\n",
    "        return n\n",
    "    return fiboNaive(n-2)+fiboNaive(n-1)\n",
    "\n",
    "fiboNaive(48)"
   ]
  },
  {
   "cell_type": "code",
   "execution_count": 28,
   "metadata": {},
   "outputs": [
    {
     "output_type": "execute_result",
     "data": {
      "text/plain": [
       "9959"
      ]
     },
     "metadata": {},
     "execution_count": 28
    }
   ],
   "source": [
    "from functools import lru_cache\n",
    "\n",
    "@lru_cache(maxsize = None)\n",
    "def fiboSum(n,m):\n",
    "    '''\n",
    "    this function terurns the sum of all fibonacci numbers\n",
    "    between n to m modulu by 1000000007\n",
    "    0 <= N <= M <= 109\n",
    "    '''\n",
    "    sum = 0\n",
    "    for i in range(n,m):\n",
    "        sum += fiboNaive(i)\n",
    "    return sum%1000000007\n",
    "\n",
    "n=15\n",
    "m=20\n",
    "fiboSum(n,m)"
   ]
  },
  {
   "cell_type": "code",
   "execution_count": null,
   "metadata": {},
   "outputs": [],
   "source": [
    "def fibo_dp(n):\n",
    "    mem = [0, 1]\n",
    "    for i in range(2, n + 1):\n",
    "        mem.append(mem[-2] + mem[-1])\n",
    "    return mem[-1]\n",
    "\n",
    "fibo_dp(48)"
   ]
  },
  {
   "cell_type": "code",
   "execution_count": null,
   "metadata": {},
   "outputs": [],
   "source": [
    "def fibo_dp_mem(n):\n",
    "    mem = [0, 1]\n",
    "    for i in range(2, n + 1):\n",
    "        print(i%2)\n",
    "        mem[i % 2] = mem[0] + mem[1]\n",
    "    return mem[n % 2]\n",
    "\n",
    "fibo_dp_mem(6)"
   ]
  },
  {
   "cell_type": "code",
   "execution_count": 9,
   "metadata": {},
   "outputs": [
    {
     "output_type": "execute_result",
     "data": {
      "text/plain": [
       "'geffen'"
      ]
     },
     "metadata": {},
     "execution_count": 9
    }
   ],
   "source": [
    "def majority(l):\n",
    "    count = {}\n",
    "    for i in l:\n",
    "        if i in count:\n",
    "            count[i] +=1\n",
    "        else:\n",
    "            count[i] = 1\n",
    "    val_1st_max, arg_1st_max = min((-count[word], word) for word in count)\n",
    "    return arg_1st_max\n",
    "\n",
    "l = ['dan', 'geffen', 'geffen', 'gaya']\n",
    "majority(l)"
   ]
  },
  {
   "cell_type": "code",
   "execution_count": 20,
   "metadata": {},
   "outputs": [
    {
     "output_type": "execute_result",
     "data": {
      "text/plain": [
       "(88, 87)"
      ]
     },
     "metadata": {},
     "execution_count": 20
    }
   ],
   "source": [
    "def closestValues(l):\n",
    "    '''\n",
    "    this function is returning the closest int values in the same list\n",
    "    '''\n",
    "    assert len(l)>=2\n",
    "    l.sort()\n",
    "    valMin, argMin = min((l[i] - l[i-1], i) for i in range(1, len(l)))\n",
    "    return l[argMin], l[argMin-1]\n",
    "\n",
    "l=[1,12,23,4,67,87,45,34,32,88]\n",
    "closestValues(l)\n"
   ]
  },
  {
   "cell_type": "code",
   "execution_count": 21,
   "metadata": {},
   "outputs": [
    {
     "output_type": "execute_result",
     "data": {
      "text/plain": [
       "[1, 2, 3, 5, 5, 6, 87]"
      ]
     },
     "metadata": {},
     "execution_count": 21
    }
   ],
   "source": [
    "a=[1,5,6,87,2,5,3]\n",
    "sorted(a)"
   ]
  },
  {
   "cell_type": "code",
   "execution_count": 26,
   "metadata": {},
   "outputs": [
    {
     "output_type": "execute_result",
     "data": {
      "text/plain": [
       "40"
      ]
     },
     "metadata": {},
     "execution_count": 26
    }
   ],
   "source": [
    "def minimalSumPermut(x,y):\n",
    "    x1 = sorted(x)\n",
    "    y1 = sorted(y)\n",
    "    return sum(x1[i]*y1[-i-1] for i in range(len(x1)))\n",
    "\n",
    "x= [1,2,3,4]\n",
    "y=[3,4,5,6]\n",
    "minimalSumPermut(x,y)"
   ]
  },
  {
   "cell_type": "code",
   "execution_count": 29,
   "metadata": {},
   "outputs": [
    {
     "output_type": "execute_result",
     "data": {
      "text/plain": [
       "5120"
      ]
     },
     "metadata": {},
     "execution_count": 29
    }
   ],
   "source": [
    "5<<10"
   ]
  },
  {
   "cell_type": "code",
   "execution_count": 30,
   "metadata": {},
   "outputs": [
    {
     "output_type": "execute_result",
     "data": {
      "text/plain": [
       "8"
      ]
     },
     "metadata": {},
     "execution_count": 30
    }
   ],
   "source": [
    "2<<2"
   ]
  },
  {
   "cell_type": "code",
   "execution_count": null,
   "metadata": {},
   "outputs": [],
   "source": []
  }
 ]
}