{
 "metadata": {
  "language_info": {
   "codemirror_mode": {
    "name": "ipython",
    "version": 3
   },
   "file_extension": ".py",
   "mimetype": "text/x-python",
   "name": "python",
   "nbconvert_exporter": "python",
   "pygments_lexer": "ipython3",
   "version": "3.7.4"
  },
  "orig_nbformat": 2,
  "kernelspec": {
   "name": "python374jvsc74a57bd0ed3bb7afc59ed97cf88a0907716fbdc242e5af871b22b080c23a3e1b24d1e4e3",
   "display_name": "Python 3.7.4 64-bit ('base': conda)"
  }
 },
 "nbformat": 4,
 "nbformat_minor": 2,
 "cells": [
  {
   "cell_type": "code",
   "execution_count": 17,
   "metadata": {},
   "outputs": [
    {
     "output_type": "execute_result",
     "data": {
      "text/plain": [
       "'the'"
      ]
     },
     "metadata": {},
     "execution_count": 17
    }
   ],
   "source": [
    "ord('A')\n",
    "text = 'below the car is a rat drinking cider and bending its elbow while this thing is an arc that can act like a  at which cried during the night caused by pain in its bowel'\n",
    "l = text.split(' ')\n",
    "l[1]"
   ]
  },
  {
   "cell_type": "code",
   "execution_count": 30,
   "metadata": {},
   "outputs": [
    {
     "output_type": "execute_result",
     "data": {
      "text/plain": [
       "[{'below', 'elbow'},\n",
       " {'below', 'bowel'},\n",
       " {'arc', 'car'},\n",
       " {'cider', 'cried'},\n",
       " {'bowel', 'elbow'},\n",
       " {'night', 'thing'},\n",
       " {'arc', 'car'},\n",
       " {'cider', 'cried'},\n",
       " {'night', 'thing'}]"
      ]
     },
     "metadata": {},
     "execution_count": 30
    }
   ],
   "source": [
    "text = 'below the car is a rat drinking cider and bending its elbow while this thing is an arc that can act like a  at which cried during the night caused by pain in its bowel'\n",
    "def isAnagram(text1, text2):\n",
    "    if len(text1) == len(text2) and len(text1)>1 and text1!=text2:\n",
    "        txtL1 = list(text1)\n",
    "        txtL2 = list(text2)\n",
    "        count = 0\n",
    "        for i in txtL1:\n",
    "            for j in txtL2:\n",
    "                if i==j:\n",
    "                    count += 1\n",
    "        if count == len(text1):\n",
    "            return True\n",
    "        else:\n",
    "            return False\n",
    "    else:\n",
    "        return False\n",
    "\n",
    "\n",
    "def findAllAnagrams(text):\n",
    "    anagramList = []\n",
    "    wordsList = text.split(' ')\n",
    "    for i in range(0, len(wordsList)-1):\n",
    "        for j in range(1, len(wordsList)):\n",
    "            if isAnagram(wordsList[i],wordsList[j]) and i!=j:\n",
    "                anagramList.append({wordsList[i],wordsList[j]})\n",
    "    return anagramList\n",
    "\n",
    "findAllAnagrams(text)\n",
    "# t1 = 'dan'\n",
    "# t2 = 'naf'\n",
    "# print(isAnagram(t1,t2))\n"
   ]
  },
  {
   "source": [
    "A word w is an anagram of a word v if a permutation of the letters transforming w\n",
    "into v exists. Given a set of n words of length at most k, we would like to detect all\n",
    "possible anagrams"
   ],
   "cell_type": "markdown",
   "metadata": {}
  },
  {
   "cell_type": "code",
   "execution_count": 35,
   "metadata": {},
   "outputs": [
    {
     "output_type": "execute_result",
     "data": {
      "text/plain": [
       "'adnisehtamn'"
      ]
     },
     "metadata": {},
     "execution_count": 35
    }
   ],
   "source": [
    "t1 = 'dan is teh man'\n",
    "t2 = 'nad si the nam'\n",
    "# print(isAnagram(t1,t2))\n",
    "d = {}\n",
    "s1 = t1.split(' ')\n",
    "s2 = t2.split(' ')\n",
    "sorts=''\n",
    "for i in s2:\n",
    "    sorts = ''.join(sorted(i))\n",
    "if sorts in d:\n",
    "    d[sorts].append(i)\n",
    "else:\n",
    "    d[sorts] = [i]\n",
    "[d[s] for s in d if len(d[s]) > 1]"
   ]
  },
  {
   "source": [
    "the efficient solution"
   ],
   "cell_type": "markdown",
   "metadata": {}
  },
  {
   "cell_type": "code",
   "execution_count": 36,
   "metadata": {},
   "outputs": [
    {
     "output_type": "execute_result",
     "data": {
      "text/plain": [
       "[['b', 'b', 'b', 'b', 'b'],\n",
       " ['e', 'e', 'e', 'e', 'e', 'e', 'e', 'e', 'e', 'e', 'e'],\n",
       " ['l', 'l', 'l', 'l', 'l'],\n",
       " ['o', 'o', 'o'],\n",
       " ['w', 'w', 'w', 'w', 'w'],\n",
       " [' ',\n",
       "  ' ',\n",
       "  ' ',\n",
       "  ' ',\n",
       "  ' ',\n",
       "  ' ',\n",
       "  ' ',\n",
       "  ' ',\n",
       "  ' ',\n",
       "  ' ',\n",
       "  ' ',\n",
       "  ' ',\n",
       "  ' ',\n",
       "  ' ',\n",
       "  ' ',\n",
       "  ' ',\n",
       "  ' ',\n",
       "  ' ',\n",
       "  ' ',\n",
       "  ' ',\n",
       "  ' ',\n",
       "  ' ',\n",
       "  ' ',\n",
       "  ' ',\n",
       "  ' ',\n",
       "  ' ',\n",
       "  ' ',\n",
       "  ' ',\n",
       "  ' ',\n",
       "  ' ',\n",
       "  ' ',\n",
       "  ' ',\n",
       "  ' ',\n",
       "  ' ',\n",
       "  ' '],\n",
       " ['t', 't', 't', 't', 't', 't', 't', 't', 't', 't', 't', 't'],\n",
       " ['h', 'h', 'h', 'h', 'h', 'h', 'h', 'h', 'h'],\n",
       " ['c', 'c', 'c', 'c', 'c', 'c', 'c', 'c'],\n",
       " ['a', 'a', 'a', 'a', 'a', 'a', 'a', 'a', 'a', 'a', 'a', 'a', 'a'],\n",
       " ['r', 'r', 'r', 'r', 'r', 'r', 'r'],\n",
       " ['i',\n",
       "  'i',\n",
       "  'i',\n",
       "  'i',\n",
       "  'i',\n",
       "  'i',\n",
       "  'i',\n",
       "  'i',\n",
       "  'i',\n",
       "  'i',\n",
       "  'i',\n",
       "  'i',\n",
       "  'i',\n",
       "  'i',\n",
       "  'i',\n",
       "  'i',\n",
       "  'i',\n",
       "  'i'],\n",
       " ['s', 's', 's', 's', 's', 's'],\n",
       " ['d', 'd', 'd', 'd', 'd', 'd', 'd'],\n",
       " ['n', 'n', 'n', 'n', 'n', 'n', 'n', 'n', 'n', 'n', 'n', 'n'],\n",
       " ['k', 'k'],\n",
       " ['g', 'g', 'g', 'g', 'g'],\n",
       " ['u', 'u']]"
      ]
     },
     "metadata": {},
     "execution_count": 36
    }
   ],
   "source": [
    "def angDetect(text):\n",
    "    d = {}\n",
    "    for word in text:\n",
    "        s = ''.join(sorted(word))\n",
    "        if s in d:\n",
    "            d[s].append(word)\n",
    "        else:\n",
    "            d[s] = [word]\n",
    "    return [d[s] for s in d if len(d[s])>1]\n",
    "\n",
    "angDetect(text)"
   ]
  },
  {
   "cell_type": "code",
   "execution_count": null,
   "metadata": {},
   "outputs": [],
   "source": []
  }
 ]
}