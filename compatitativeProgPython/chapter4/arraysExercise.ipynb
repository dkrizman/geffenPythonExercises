{
 "cells": [
  {
   "cell_type": "code",
   "execution_count": 36,
   "source": [
    "def sortList(lst=[]):\r\n",
    "    # try:\r\n",
    "    #     if type(lst)!=list:\r\n",
    "    #         print('input not a list')\r\n",
    "    #         break\r\n",
    "    # intFlag = True\r\n",
    "    # for i in lst:\r\n",
    "    #     if type(i)!=int:\r\n",
    "    #         intFlag = False\r\n",
    "    # if not intFlag:\r\n",
    "    #     print('not all instances are integers')\r\n",
    "    #     break\r\n",
    "    sortedList = [0]*9\r\n",
    "    minTemp = lst[0]\r\n",
    "    for i in lst:\r\n",
    "        for j in lst:\r\n",
    "            if j<=i:\r\n",
    "                minTemp = i\r\n",
    "        sortedList[i]=minTemp\r\n",
    "    return sortedList"
   ],
   "outputs": [],
   "metadata": {}
  },
  {
   "cell_type": "code",
   "execution_count": 37,
   "source": [
    "l = [3,4,5,3,6,7,8,3,2]\r\n",
    "sortList(l)\r\n",
    "# l[8]"
   ],
   "outputs": [
    {
     "output_type": "execute_result",
     "data": {
      "text/plain": [
       "[3, 4, 5, 3, 6, 7, 8, 3, 2]"
      ]
     },
     "metadata": {},
     "execution_count": 37
    }
   ],
   "metadata": {}
  },
  {
   "cell_type": "code",
   "execution_count": null,
   "source": [],
   "outputs": [],
   "metadata": {}
  }
 ],
 "metadata": {
  "orig_nbformat": 4,
  "language_info": {
   "name": "python",
   "version": "3.7.4",
   "mimetype": "text/x-python",
   "codemirror_mode": {
    "name": "ipython",
    "version": 3
   },
   "pygments_lexer": "ipython3",
   "nbconvert_exporter": "python",
   "file_extension": ".py"
  },
  "kernelspec": {
   "name": "python3",
   "display_name": "Python 3.7.4 64-bit ('base': conda)"
  },
  "interpreter": {
   "hash": "ed3bb7afc59ed97cf88a0907716fbdc242e5af871b22b080c23a3e1b24d1e4e3"
  }
 },
 "nbformat": 4,
 "nbformat_minor": 2
}