{
 "cells": [
  {
   "cell_type": "code",
   "execution_count": 1,
   "source": [
    "def sortList(lst=[]):\r\n",
    "    breakFlag = False\r\n",
    "    if type(lst)!=list:\r\n",
    "        print('input not a list')\r\n",
    "        breakFlag = True\r\n",
    "    intFlag = True\r\n",
    "    for i in lst:\r\n",
    "        if type(i)!=int:\r\n",
    "            intFlag = False\r\n",
    "    if not intFlag and not breakFlag:\r\n",
    "        print('not all instances are integers')\r\n",
    "        breakFlag = True\r\n",
    "    if not breakFlag:\r\n",
    "        sortedList = [0]*len(lst)\r\n",
    "        minTemp = 0\r\n",
    "        for i in range(len(lst)):\r\n",
    "            for j in range(len(lst)):\r\n",
    "                if i!=j and lst[j]>=lst[i]:\r\n",
    "                    minTemp = lst[j]\r\n",
    "                    lst[j] = lst[i]\r\n",
    "                    lst[i] = minTemp\r\n",
    "        return lst"
   ],
   "outputs": [],
   "metadata": {}
  },
  {
   "cell_type": "code",
   "execution_count": 60,
   "source": [
    "def isSorted(l1):\r\n",
    "    flag = True\r\n",
    "    for i in range(len(l1)-1):\r\n",
    "        if l1[i] > l1[i+1]:\r\n",
    "            flag = False\r\n",
    "            break\r\n",
    "    return flag\r\n",
    "\r\n",
    "\r\n",
    "def mergeSorted(l1, l2):\r\n",
    "    if not isSorted(l1) or not isSorted(l2):\r\n",
    "        print('one or more input list werent sorted and we sorted it for you')\r\n",
    "        l1 = sortList(l1)\r\n",
    "        l2 = sortList(l2)\r\n",
    "    else:\r\n",
    "        res = []\r\n",
    "        index2 = 0\r\n",
    "        index1 = 0\r\n",
    "        for i in range(len(l1)+ len(l2)):\r\n",
    "            if index1<len(l1):\r\n",
    "                if l1[index1] <= l2[index2]:\r\n",
    "                    res.append(l1[index1])\r\n",
    "                    index1 += 1\r\n",
    "                else:\r\n",
    "                    res.append(l2[index2])\r\n",
    "                    index2 += 1\r\n",
    "            elif index2 < len(l2):\r\n",
    "                res.append(l2[index2])\r\n",
    "                index2 += 1\r\n",
    "    return res\r\n"
   ],
   "outputs": [],
   "metadata": {}
  },
  {
   "cell_type": "code",
   "execution_count": 63,
   "source": [
    "l1 = [1,2,3,4,5,6]\r\n",
    "l2 = [3,5,6,7,8,9,11,12]\r\n",
    "# l1 = sortList(l1)\r\n",
    "# l1[0]\r\n",
    "mergeSorted(l1, l2)\r\n",
    "# len(l1) + len(l2)"
   ],
   "outputs": [
    {
     "output_type": "execute_result",
     "data": {
      "text/plain": [
       "[1, 2, 3, 3, 4, 5, 5, 6, 6, 7, 8, 9, 11, 12]"
      ]
     },
     "metadata": {},
     "execution_count": 63
    }
   ],
   "metadata": {}
  },
  {
   "cell_type": "code",
   "execution_count": 72,
   "source": [
    "def getSubList(l, i, j):\r\n",
    "    '''returns sublist from i to j'''\r\n",
    "    if i>=len(l) or j>len(l) or i<0 or j<0:\r\n",
    "        print('invalid input')\r\n",
    "    else:\r\n",
    "        res = []\r\n",
    "        for k in range(i,j+1):\r\n",
    "            res.append(l[k])\r\n",
    "        return res\r\n",
    "    \r\n",
    "def dupsInRange(l, i, j):\r\n",
    "    subList = getSubList(l, i, j)\r\n",
    "    \r\n",
    "    "
   ],
   "outputs": [],
   "metadata": {}
  },
  {
   "cell_type": "code",
   "execution_count": 73,
   "source": [
    "getSubList([1,2,3,4,5,6], 3,5)"
   ],
   "outputs": [
    {
     "output_type": "execute_result",
     "data": {
      "text/plain": [
       "[4, 5, 6]"
      ]
     },
     "metadata": {},
     "execution_count": 73
    }
   ],
   "metadata": {}
  },
  {
   "cell_type": "code",
   "execution_count": null,
   "source": [],
   "outputs": [],
   "metadata": {}
  }
 ],
 "metadata": {
  "orig_nbformat": 4,
  "language_info": {
   "name": "python",
   "version": "3.7.4",
   "mimetype": "text/x-python",
   "codemirror_mode": {
    "name": "ipython",
    "version": 3
   },
   "pygments_lexer": "ipython3",
   "nbconvert_exporter": "python",
   "file_extension": ".py"
  },
  "kernelspec": {
   "name": "python3",
   "display_name": "Python 3.7.4 64-bit ('base': conda)"
  },
  "interpreter": {
   "hash": "ed3bb7afc59ed97cf88a0907716fbdc242e5af871b22b080c23a3e1b24d1e4e3"
  }
 },
 "nbformat": 4,
 "nbformat_minor": 2
}