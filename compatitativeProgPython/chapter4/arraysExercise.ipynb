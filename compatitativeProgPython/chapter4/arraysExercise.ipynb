{
 "cells": [
  {
   "cell_type": "code",
   "execution_count": 50,
   "source": [
    "def sortList(lst=[]):\r\n",
    "    breakFlag = False\r\n",
    "    if type(lst)!=list:\r\n",
    "        print('input not a list')\r\n",
    "        breakFlag = True\r\n",
    "    intFlag = True\r\n",
    "    for i in lst:\r\n",
    "        if type(i)!=int:\r\n",
    "            intFlag = False\r\n",
    "    if not intFlag and not breakFlag:\r\n",
    "        print('not all instances are integers')\r\n",
    "        breakFlag = True\r\n",
    "    if not breakFlag:\r\n",
    "        sortedList = [0]*len(lst)\r\n",
    "        minTemp = 0\r\n",
    "        for i in range(len(lst)):\r\n",
    "            for j in range(len(lst)):\r\n",
    "                if i!=j and lst[j]>=lst[i]:\r\n",
    "                    minTemp = lst[j]\r\n",
    "                    lst[j] = lst[i]\r\n",
    "                    lst[i] = minTemp\r\n",
    "        return lst"
   ],
   "outputs": [],
   "metadata": {}
  },
  {
   "cell_type": "code",
   "execution_count": 52,
   "source": [
    "l = [3,4,5,3,6,7,8,3,2]\r\n",
    "sortList([1,'d'])\r\n",
    "# l[8]"
   ],
   "outputs": [
    {
     "output_type": "stream",
     "name": "stdout",
     "text": [
      "not all instances are integers\n"
     ]
    }
   ],
   "metadata": {}
  },
  {
   "cell_type": "code",
   "execution_count": null,
   "source": [],
   "outputs": [],
   "metadata": {}
  }
 ],
 "metadata": {
  "orig_nbformat": 4,
  "language_info": {
   "name": "python",
   "version": "3.7.4",
   "mimetype": "text/x-python",
   "codemirror_mode": {
    "name": "ipython",
    "version": 3
   },
   "pygments_lexer": "ipython3",
   "nbconvert_exporter": "python",
   "file_extension": ".py"
  },
  "kernelspec": {
   "name": "python3",
   "display_name": "Python 3.7.4 64-bit ('base': conda)"
  },
  "interpreter": {
   "hash": "ed3bb7afc59ed97cf88a0907716fbdc242e5af871b22b080c23a3e1b24d1e4e3"
  }
 },
 "nbformat": 4,
 "nbformat_minor": 2
}