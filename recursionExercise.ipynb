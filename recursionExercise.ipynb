{
 "cells": [
  {
   "cell_type": "code",
   "execution_count": 32,
   "source": [
    "import numpy as np\r\n",
    "\r\n",
    "testList = np.random.randint(1,100,size=100)\r\n",
    "print(testList.min())\r\n",
    "print(testList.max())\r\n"
   ],
   "outputs": [
    {
     "output_type": "stream",
     "name": "stdout",
     "text": [
      "2\n",
      "99\n"
     ]
    }
   ],
   "metadata": {}
  },
  {
   "cell_type": "code",
   "execution_count": 33,
   "source": [
    "# problem 4.9 from goodrich algorithms book\r\n",
    "def minMaxFinder(lst=[], mn=0, mx=0, minFlag = False):\r\n",
    "    if len(lst) == 0:\r\n",
    "        return mn,mx\r\n",
    "    elif len(lst) == 1:\r\n",
    "        if mn>lst[0]:\r\n",
    "            mn = lst[0]\r\n",
    "            minFlag = True\r\n",
    "        elif mx < lst[0]:\r\n",
    "            mx = lst[0]\r\n",
    "        return mn, mx\r\n",
    "    else:\r\n",
    "        if lst[0] > lst[1] and mx < lst[0]:\r\n",
    "            mx = lst[0]\r\n",
    "        elif lst[0] < lst[1] and mx < lst[1]:\r\n",
    "            mx = lst[1]\r\n",
    "        if lst[0] < lst[1] and (mn > lst[0] or minFlag==False):\r\n",
    "            mn = lst[0]\r\n",
    "            minFlag = True\r\n",
    "        elif lst[0] > lst[1] and (mn > lst[1] or minFlag==False):\r\n",
    "            mn = lst[1]\r\n",
    "            minFlag = True\r\n",
    "        return minMaxFinder(lst[2:], mn, mx, minFlag)\r\n",
    "\r\n",
    "\r\n",
    "minMaxFinder(testList)\r\n"
   ],
   "outputs": [
    {
     "output_type": "execute_result",
     "data": {
      "text/plain": [
       "(2, 99)"
      ]
     },
     "metadata": {},
     "execution_count": 33
    }
   ],
   "metadata": {}
  },
  {
   "cell_type": "code",
   "execution_count": 52,
   "source": [
    "# problem 4.12 from goodrich book\r\n",
    "def productCompute(m,n):\r\n",
    "    if n==0 or m==0:\r\n",
    "        return 0\r\n",
    "    elif n==1:\r\n",
    "        return m\r\n",
    "    elif m==1:\r\n",
    "        return n\r\n",
    "    elif n>1:\r\n",
    "        return m + productCompute(m,n-1)\r\n",
    "    elif n<0:\r\n",
    "        n = -1*n\r\n",
    "        res = m + productCompute(m,n-1)\r\n",
    "        return -1*res\r\n",
    "    \r\n",
    "productCompute(250,16)"
   ],
   "outputs": [
    {
     "output_type": "execute_result",
     "data": {
      "text/plain": [
       "4000"
      ]
     },
     "metadata": {},
     "execution_count": 52
    }
   ],
   "metadata": {}
  },
  {
   "cell_type": "code",
   "execution_count": 69,
   "source": [
    "# goodrich problem 4.17  - identify palindrom using recursion\r\n",
    "# def paliDetect(s):\r\n",
    "#     if len(s) in [0,1]:\r\n",
    "#         return True\r\n",
    "#     elif len(s) == 2:\r\n",
    "#         if s[0] == s[1]:\r\n",
    "#             return True\r\n",
    "#         else:\r\n",
    "#             return False\r\n",
    "#     else:\r\n",
    "#         m = len(s)//2\r\n",
    "#         return (paliDetect(s[0:m]) and paliDetect(s[m:-1]))\r\n",
    "\r\n",
    "paliDetect('gohangasalamiimalasagnahog')"
   ],
   "outputs": [
    {
     "output_type": "execute_result",
     "data": {
      "text/plain": [
       "False"
      ]
     },
     "metadata": {},
     "execution_count": 69
    }
   ],
   "metadata": {}
  },
  {
   "cell_type": "code",
   "execution_count": 60,
   "source": [
    "a = 'DanielKrizman'\r\n",
    "a[0:len(a)//2]"
   ],
   "outputs": [
    {
     "output_type": "execute_result",
     "data": {
      "text/plain": [
       "'Daniel'"
      ]
     },
     "metadata": {},
     "execution_count": 60
    }
   ],
   "metadata": {}
  }
 ],
 "metadata": {
  "orig_nbformat": 4,
  "language_info": {
   "name": "python",
   "version": "3.7.4",
   "mimetype": "text/x-python",
   "codemirror_mode": {
    "name": "ipython",
    "version": 3
   },
   "pygments_lexer": "ipython3",
   "nbconvert_exporter": "python",
   "file_extension": ".py"
  },
  "kernelspec": {
   "name": "python3",
   "display_name": "Python 3.7.4 64-bit ('base': conda)"
  },
  "interpreter": {
   "hash": "ed3bb7afc59ed97cf88a0907716fbdc242e5af871b22b080c23a3e1b24d1e4e3"
  }
 },
 "nbformat": 4,
 "nbformat_minor": 2
}