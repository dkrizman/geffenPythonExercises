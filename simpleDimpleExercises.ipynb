{
 "cells": [
  {
   "cell_type": "code",
   "execution_count": 17,
   "source": [
    "def printOnesSquare(n=1):\r\n",
    "    if n>2:\r\n",
    "        firstRow = lastRow = str(1) * n\r\n",
    "        midRows = str(1) + ' '*(n-2) + str(1)\r\n",
    "        print(firstRow)\r\n",
    "        for i in range(n-2):\r\n",
    "            print(midRows)\r\n",
    "        print(lastRow)\r\n",
    "    else:\r\n",
    "        for i in range(n):\r\n",
    "            print(str(1)*n)\r\n",
    "            \r\n",
    "printOnesSquare(6)"
   ],
   "outputs": [
    {
     "output_type": "stream",
     "name": "stdout",
     "text": [
      "111111\n",
      "1    1\n",
      "1    1\n",
      "1    1\n",
      "1    1\n",
      "111111\n"
     ]
    }
   ],
   "metadata": {}
  },
  {
   "cell_type": "code",
   "execution_count": 38,
   "source": [
    "def printXNumbers(n = 1):\r\n",
    "    if n == 1:\r\n",
    "        print(str(n))\r\n",
    "    else:\r\n",
    "        s = 1\r\n",
    "        while s<n:\r\n",
    "            print(' '*(s-1) + str(s) + ' '*(n-s)*2 + str(s))\r\n",
    "            s += 1\r\n",
    "        print(' '*(s-1) + str(n))\r\n",
    "        s -= 1\r\n",
    "        while s>=1:\r\n",
    "            print(' '*(s-1) + str(s) + ' '*(n-s)*2 + str(s))\r\n",
    "            s -= 1\r\n",
    "\r\n",
    "printXNumbers(8)"
   ],
   "outputs": [
    {
     "output_type": "stream",
     "name": "stdout",
     "text": [
      "1              1\n",
      " 2            2\n",
      "  3          3\n",
      "   4        4\n",
      "    5      5\n",
      "     6    6\n",
      "      7  7\n",
      "       8\n",
      "      7  7\n",
      "     6    6\n",
      "    5      5\n",
      "   4        4\n",
      "  3          3\n",
      " 2            2\n",
      "1              1\n"
     ]
    }
   ],
   "metadata": {}
  }
 ],
 "metadata": {
  "orig_nbformat": 4,
  "language_info": {
   "name": "python",
   "version": "3.7.4",
   "mimetype": "text/x-python",
   "codemirror_mode": {
    "name": "ipython",
    "version": 3
   },
   "pygments_lexer": "ipython3",
   "nbconvert_exporter": "python",
   "file_extension": ".py"
  },
  "kernelspec": {
   "name": "python3",
   "display_name": "Python 3.7.4 64-bit ('base': conda)"
  },
  "interpreter": {
   "hash": "ed3bb7afc59ed97cf88a0907716fbdc242e5af871b22b080c23a3e1b24d1e4e3"
  }
 },
 "nbformat": 4,
 "nbformat_minor": 2
}