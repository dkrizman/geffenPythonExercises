{
 "cells": [
  {
   "cell_type": "code",
   "execution_count": 2,
   "metadata": {},
   "outputs": [],
   "source": [
    "import ipywidgets as widgets\n",
    "from IPython.display import display"
   ]
  },
  {
   "cell_type": "code",
   "execution_count": 4,
   "metadata": {},
   "outputs": [
    {
     "data": {
      "application/vnd.jupyter.widget-view+json": {
       "model_id": "f3d633900dcd487490882738dd6df31a",
       "version_major": 2,
       "version_minor": 0
      },
      "text/plain": [
       "IntSlider(value=20, description='slider example', step=10)"
      ]
     },
     "metadata": {},
     "output_type": "display_data"
    }
   ],
   "source": [
    "slider = widgets.IntSlider(\n",
    "    min = 0,\n",
    "    max = 100,\n",
    "    step = 10,\n",
    "    description = 'slider example',\n",
    "    value = 20\n",
    ")\n",
    "\n",
    "display(slider)"
   ]
  },
  {
   "cell_type": "code",
   "execution_count": 12,
   "metadata": {},
   "outputs": [
    {
     "data": {
      "application/vnd.jupyter.widget-view+json": {
       "model_id": "6ce29bc1ed3a47498c2bbae8a7c9b1de",
       "version_major": 2,
       "version_minor": 0
      },
      "text/plain": [
       "Button(description='check', style=ButtonStyle())"
      ]
     },
     "metadata": {},
     "output_type": "display_data"
    },
    {
     "name": "stdout",
     "output_type": "stream",
     "text": [
      "the button has been clicked\n",
      "the button has been clicked\n",
      "the button has been clicked\n"
     ]
    }
   ],
   "source": [
    "button = widgets.Button(description = 'check')\n",
    "display(button)\n",
    "count = 0\n",
    "\n",
    "def btnEventHandler(obj):\n",
    "    print(f'the button has been clicked')\n",
    "    \n",
    "button.on_click(btnEventHandler, count)"
   ]
  },
  {
   "cell_type": "code",
   "execution_count": 3,
   "metadata": {},
   "outputs": [
    {
     "data": {
      "application/vnd.jupyter.widget-view+json": {
       "model_id": "08205910f774425e8e2787265fff77cd",
       "version_major": 2,
       "version_minor": 0
      },
      "text/plain": [
       "VBox(children=(HBox(children=(Dropdown(description='year', options=('ALL', '2002', '2003', '2004', '2005', '20…"
      ]
     },
     "metadata": {},
     "output_type": "display_data"
    }
   ],
   "source": [
    "import pandas as pd\n",
    "import numpy as np\n",
    "import seaborn as sns\n",
    "import matplotlib.pyplot as plt\n",
    "\n",
    "url = \"C:\\\\Users\\\\dkrizman\\\\Desktop\\\\international-visitors-london-raw.csv\"\n",
    "df_london = pd.read_csv(url)\n",
    "\n",
    "ALL = 'ALL'\n",
    "def uniqueSortedValues(df):\n",
    "    unique = df.unique().tolist()\n",
    "    unique.sort\n",
    "    unique.insert(0,ALL)\n",
    "    return unique\n",
    "\n",
    "\n",
    "\n",
    "# def dropDownYearEventHandler(change):\n",
    "#     outputYear.clear_output()\n",
    "#     with outputYear:\n",
    "#         if change.new == ALL:\n",
    "#             display(df_london)\n",
    "#         else:\n",
    "#             display(df_london[df_london.year == change.new])\n",
    "\n",
    "\n",
    "\n",
    "def commonFiltering(year, purpose):\n",
    "    output.clear_output()\n",
    "    pltOutput.clear_output()\n",
    "    \n",
    "    if year == ALL and purpose == ALL:\n",
    "        commonFilter = df_london\n",
    "    elif year == ALL:\n",
    "        commonFilter = df_london[df_london.purpose == purpose]\n",
    "    elif purpose == ALL:\n",
    "        commonFilter = df_london[df_london.year == year]\n",
    "    else:\n",
    "        commonFilter = df_london[(df_london.year == year) & (df_london.purpose == purpose)]\n",
    "        \n",
    "    with output:\n",
    "        display(commonFilter)\n",
    "        \n",
    "    with pltOutput:\n",
    "        sns.kdeplot(commonFilter['Visits'], shade = True)\n",
    "        plt.show()\n",
    "\n",
    "def dropDownYearEventHandler(change):\n",
    "    commonFiltering(change.new, dropdownPurpose.value)\n",
    "    \n",
    "def dropDownPurposeEventHandler(change):\n",
    "    commonFiltering(dropdownYear.value, change.new)\n",
    "\n",
    "dropdownYear = widgets.Dropdown(options = uniqueSortedValues(df_london.year), description = 'year')\n",
    "dropdownPurpose = widgets.Dropdown(options = uniqueSortedValues(df_london.purpose), description = 'purpose')\n",
    "\n",
    "output = widgets.Output()\n",
    "pltOutput = widgets.Output()\n",
    "\n",
    "dropdownYear.observe(dropDownYearEventHandler, names = 'value')\n",
    "dropdownPurpose.observe(dropDownPurposeEventHandler, names = 'value')\n",
    "\n",
    "item_layout = widgets.Layout(margin='0 0 50px 0')\n",
    "\n",
    "inputWidgets = widgets.HBox([dropdownYear, dropdownPurpose], layout = item_layout)\n",
    "\n",
    "tab = widgets.Tab([output, pltOutput], layout = item_layout)\n",
    "tab.set_title(0, 'Dataset exploration')\n",
    "tab.set_title(1, 'KDE Plot')\n",
    "\n",
    "dashboard = widgets.VBox([inputWidgets, tab])\n",
    "\n",
    "# display(inputWidgets)\n",
    "# display(output)\n",
    "# display(pltOutput)\n",
    "# display(tab)\n",
    "display(dashboard)"
   ]
  },
  {
   "cell_type": "code",
   "execution_count": 2,
   "metadata": {},
   "outputs": [],
   "source": [
    "import widgetModule1 as wm\n",
    "import pandas as pd\n",
    "\n",
    "url = \"C:\\\\Users\\\\dkrizman\\\\Desktop\\\\international-visitors-london-raw.csv\"\n",
    "df_london = pd.read_csv(url)"
   ]
  },
  {
   "cell_type": "code",
   "execution_count": 3,
   "metadata": {},
   "outputs": [
    {
     "data": {
      "application/vnd.jupyter.widget-view+json": {
       "model_id": "03fb44048009486bae3a5599d2c92402",
       "version_major": 2,
       "version_minor": 0
      },
      "text/plain": [
       "VBox(children=(HBox(children=(Dropdown(description='year', options=('ALL', '2002', '2003', '2004', '2005', '20…"
      ]
     },
     "metadata": {},
     "output_type": "display_data"
    }
   ],
   "source": [
    "wm.dashboard(df_london).runDashboard()"
   ]
  }
 ],
 "metadata": {
  "kernelspec": {
   "display_name": "base",
   "language": "python",
   "name": "python3"
  },
  "language_info": {
   "codemirror_mode": {
    "name": "ipython",
    "version": 3
   },
   "file_extension": ".py",
   "mimetype": "text/x-python",
   "name": "python",
   "nbconvert_exporter": "python",
   "pygments_lexer": "ipython3",
   "version": "3.7.4"
  },
  "orig_nbformat": 4
 },
 "nbformat": 4,
 "nbformat_minor": 2
}
