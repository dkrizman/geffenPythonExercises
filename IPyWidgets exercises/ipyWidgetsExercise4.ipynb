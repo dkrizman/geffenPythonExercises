{
 "cells": [
  {
   "cell_type": "code",
   "execution_count": null,
   "metadata": {},
   "outputs": [],
   "source": [
    "# def runCode(start_date, end_date, user_input):\n",
    "#     import csv\n",
    "#     print('runCode execution started')\n",
    "#     header = ['start_date', 'end_date', 'user_input']\n",
    "#     data = [start_date, end_date, user_input]\n",
    "#     with open('countries.csv', 'w', encoding='UTF8') as f:\n",
    "#         writer = csv.writer(f)\n",
    "\n",
    "#         # write the header\n",
    "#         writer.writerow(header)\n",
    "#         print('header was written successfully')\n",
    "\n",
    "#         # write the data\n",
    "#         writer.writerow(data)\n",
    "#         print('data was written successfully')\n",
    "    "
   ]
  },
  {
   "cell_type": "code",
   "execution_count": 1,
   "metadata": {},
   "outputs": [
    {
     "data": {
      "application/vnd.jupyter.widget-view+json": {
       "model_id": "f764e8cd804c474f87b984b77d6be5d6",
       "version_major": 2,
       "version_minor": 0
      },
      "text/plain": [
       "HBox(children=(HBox(children=(VBox(children=(DatePicker(value=None, description='Start Date'), DatePicker(valu…"
      ]
     },
     "metadata": {},
     "output_type": "display_data"
    },
    {
     "data": {
      "application/vnd.jupyter.widget-view+json": {
       "model_id": "1b01b33367b846769d4cce787668bc68",
       "version_major": 2,
       "version_minor": 0
      },
      "text/plain": [
       "VBox(children=(Output(), Output()))"
      ]
     },
     "metadata": {},
     "output_type": "display_data"
    }
   ],
   "source": [
    "import ipywidgets as widgets\n",
    "from IPython.display import display\n",
    "import pandas as pd\n",
    "import datetime\n",
    "\n",
    "# Function to run when the activate button is clicked\n",
    "def runCode(start_date, end_date, user_input):\n",
    "    # Generate some example data\n",
    "    data = {'Column 1': [1, 2, 3, 4, 5],\n",
    "            'Column 2': ['A', 'B', 'C', 'D', 'E']}\n",
    "    df = pd.DataFrame(data)\n",
    "    \n",
    "    # Filter data based on date range\n",
    "    df = df[(df['Date'] >= start_date) & (df['Date'] <= end_date)]\n",
    "    \n",
    "    # Create Excel file\n",
    "    filename = 'output.xlsx'\n",
    "    df.to_excel(filename, index=False)\n",
    "    \n",
    "    # Print output\n",
    "    print(f'Data filtered between {start_date} and {end_date}:')\n",
    "    print(df)\n",
    "    \n",
    "    return filename\n",
    "\n",
    "\n",
    "# Create widgets\n",
    "start_slider = widgets.DatePicker(description='Start Date')\n",
    "end_slider = widgets.DatePicker(description='End Date')\n",
    "user_input_text = widgets.Textarea(description='User Input')\n",
    "activate_button = widgets.Button(description='Activate')\n",
    "output_link = widgets.Output()\n",
    "output_text = widgets.Output()\n",
    "\n",
    "# Function to handle button click\n",
    "def on_button_clicked(b):\n",
    "    start_date = start_slider.value\n",
    "    end_date = end_slider.value\n",
    "    user_input = user_input_text.value\n",
    "    \n",
    "    with output_link:\n",
    "        # Clear previous output\n",
    "        output_link.clear_output()\n",
    "        output_text.clear_output()\n",
    "        \n",
    "        # Run the code and get the output\n",
    "        filename = runCode(start_date, end_date, user_input)\n",
    "        \n",
    "        # Display the link to the output file\n",
    "        display(widgets.HTML(f'<a href=\"{filename}\" download>Download Excel File</a>'))\n",
    "    \n",
    "    with output_text:\n",
    "        # Capture the printed output and display it\n",
    "        output_text.clear_output()\n",
    "        display(widgets.HTML('<h3>Function Output:</h3>'))\n",
    "        display(widgets.HTML('<pre>'))\n",
    "        runCode(start_date, end_date, user_input)\n",
    "        display(widgets.HTML('</pre>'))\n",
    "\n",
    "# Attach click event handler to the activate button\n",
    "activate_button.on_click(on_button_clicked)\n",
    "\n",
    "# Create layout\n",
    "date_box = widgets.VBox([start_slider, end_slider])\n",
    "input_box = widgets.HBox([date_box, user_input_text])\n",
    "button_box = widgets.HBox([input_box, activate_button])\n",
    "output_box = widgets.VBox([output_link, output_text])\n",
    "\n",
    "# Display the widget\n",
    "display(button_box)\n",
    "display(output_box)\n"
   ]
  },
  {
   "cell_type": "code",
   "execution_count": 4,
   "metadata": {},
   "outputs": [
    {
     "data": {
      "text/plain": [
       "'7.5.1'"
      ]
     },
     "execution_count": 4,
     "metadata": {},
     "output_type": "execute_result"
    }
   ],
   "source": [
    "import ipywidgets as widgets\n",
    "widgets.__version__"
   ]
  },
  {
   "cell_type": "code",
   "execution_count": 2,
   "metadata": {},
   "outputs": [
    {
     "data": {
      "application/vnd.jupyter.widget-view+json": {
       "model_id": "ec703e64779b406a8b315ac18c0e1c30",
       "version_major": 2,
       "version_minor": 0
      },
      "text/plain": [
       "VBox(children=(HBox(children=(VBox(children=(DatePicker(value=datetime.datetime(2023, 6, 10, 18, 8, 42, 101020…"
      ]
     },
     "metadata": {},
     "output_type": "display_data"
    }
   ],
   "source": [
    "import ipywidgets as widgets\n",
    "from IPython.display import display\n",
    "from datetime import datetime\n",
    "import pandas as pd\n",
    "\n",
    "# Function to run the code and generate Excel file\n",
    "def runCode(start_datetime, end_datetime, user_input):\n",
    "    # Convert the start and end datetime values to a specific format\n",
    "    start_str = start_datetime.strftime(\"%Y-%m-%d %H:%M:%S\")\n",
    "    end_str = end_datetime.strftime(\"%Y-%m-%d %H:%M:%S\")\n",
    "    \n",
    "    # Perform necessary operations or computations\n",
    "    # Replace the code below with your own implementation\n",
    "    output_text = f\"Start Datetime: {start_str}\\n\"\n",
    "    output_text += f\"End Datetime: {end_str}\\n\"\n",
    "    output_text += f\"User Input: {user_input}\\n\"\n",
    "    \n",
    "    # Generate Excel file\n",
    "    df = pd.DataFrame({'Start Datetime': [start_str], 'End Datetime': [end_str], 'User Input': [user_input]})\n",
    "    filename = 'output.xlsx'\n",
    "    df.to_excel(filename, index=False)\n",
    "    \n",
    "    return output_text, filename\n",
    "\n",
    "# Define the sliders for date and time range\n",
    "start_slider = widgets.DatePicker(description='Start Date:', value=datetime.now())\n",
    "end_slider = widgets.DatePicker(description='End Date:', value=datetime.now())\n",
    "\n",
    "# Define the text box for free user input\n",
    "text_box = widgets.Textarea(description='User Input:')\n",
    "\n",
    "# Define the activate button\n",
    "activate_button = widgets.Button(description='Activate')\n",
    "\n",
    "# Define the output widgets for displaying the generated link and text\n",
    "link_out = widgets.Output()\n",
    "output_text = widgets.Output()\n",
    "\n",
    "# Function to handle button click event\n",
    "def activate_button_clicked(button):\n",
    "    link_out.clear_output()\n",
    "    output_text.clear_output()\n",
    "    \n",
    "    # Get the selected values from the sliders and text box\n",
    "    start_datetime = start_slider.value\n",
    "    end_datetime = end_slider.value\n",
    "    user_input = text_box.value\n",
    "    \n",
    "    # Run the code and generate Excel file\n",
    "    with output_text:\n",
    "        output, filename = runCode(start_datetime, end_datetime, user_input)\n",
    "        print(output)\n",
    "    \n",
    "    # Display the link to the generated Excel file\n",
    "    with link_out:\n",
    "        display(widgets.HTML(f'<a href=\"{filename}\" download>Download Excel File</a>'))\n",
    "\n",
    "# Assign the button click event handler\n",
    "activate_button.on_click(activate_button_clicked)\n",
    "\n",
    "# Arrange the widgets in the desired layout\n",
    "sliders_box = widgets.VBox([start_slider, end_slider])\n",
    "hbox = widgets.HBox([sliders_box, text_box, activate_button])\n",
    "dashboard = widgets.VBox([hbox, link_out, output_text])\n",
    "\n",
    "# Display the dashboard\n",
    "display(dashboard)\n"
   ]
  },
  {
   "cell_type": "code",
   "execution_count": 11,
   "metadata": {},
   "outputs": [
    {
     "data": {
      "application/vnd.jupyter.widget-view+json": {
       "model_id": "74fbb5c73ed7498eb7fa9dba03cc7ab3",
       "version_major": 2,
       "version_minor": 0
      },
      "text/plain": [
       "VBox(children=(VBox(children=(DatePicker(value=None, description='Start Date:'), HBox(children=(IntSlider(valu…"
      ]
     },
     "metadata": {},
     "output_type": "display_data"
    }
   ],
   "source": [
    "import ipywidgets as widgets\n",
    "from IPython.display import display\n",
    "from datetime import datetime\n",
    "\n",
    "# Function to handle the selection change event of the date picker\n",
    "def on_date_change(change):\n",
    "    selected_date = change['new']\n",
    "    # if selected_date > end_date_picker.value:\n",
    "    #     end_date_picker.value = selected_date\n",
    "\n",
    "# Create the date picker widget\n",
    "date_picker = widgets.DatePicker(description='Start Date:')\n",
    "date_picker.observe(on_date_change, names='value')\n",
    "\n",
    "date_picker_end = widgets.DatePicker(description='End Date:')\n",
    "date_picker_end.observe(on_date_change, names='value')\n",
    "\n",
    "# Create the time picker widgets for start time\n",
    "start_hour_picker = widgets.IntSlider(description='Hours:', min=0, max=23)\n",
    "start_minute_picker = widgets.IntSlider(description='Minutes:', min=0, max=59)\n",
    "start_second_picker = widgets.IntSlider(description='Seconds:', min=0, max=59)\n",
    "\n",
    "# Create the time picker widgets for end time\n",
    "end_hour_picker = widgets.IntSlider(description='Hours:', min=0, max=23)\n",
    "end_minute_picker = widgets.IntSlider(description='Minutes:', min=0, max=59)\n",
    "end_second_picker = widgets.IntSlider(description='Seconds:', min=0, max=59)\n",
    "\n",
    "# Arrange the time picker widgets for start and end time\n",
    "start_time_pickers = widgets.HBox([start_hour_picker, start_minute_picker, start_second_picker])\n",
    "end_time_pickers = widgets.HBox([end_hour_picker, end_minute_picker, end_second_picker])\n",
    "\n",
    "# Create the output widget to display the selected date and time range\n",
    "output_text = widgets.Output()\n",
    "\n",
    "# Function to handle the button click event\n",
    "def button_clicked(button):\n",
    "    selected_date = date_picker.value\n",
    "    selected_end_date = date_picker.value\n",
    "    start_time = datetime(selected_date.year, selected_date.month, selected_date.day,\n",
    "                          start_hour_picker.value, start_minute_picker.value, start_second_picker.value)\n",
    "    end_time = datetime(selected_end_date.year, selected_end_date.month, selected_end_date.day,\n",
    "                        end_hour_picker.value, end_minute_picker.value, end_second_picker.value)\n",
    "    \n",
    "    output_text.clear_output()\n",
    "    with output_text:\n",
    "        print(f\"Selected Date: {selected_date}\")\n",
    "        print(f\"Start Time: {start_time}\")\n",
    "        print(f\"End Time: {end_time}\")\n",
    "\n",
    "# Create the button widget\n",
    "button = widgets.Button(description='Select')\n",
    "\n",
    "# Assign the button click event handler\n",
    "button.on_click(button_clicked)\n",
    "\n",
    "# Arrange the widgets in the desired layout\n",
    "date_and_time_pickers = widgets.VBox([date_picker, start_time_pickers,date_picker_end,end_time_pickers])\n",
    "dashboard = widgets.VBox([date_and_time_pickers, button, output_text])\n",
    "\n",
    "# Display the dashboard\n",
    "display(dashboard)\n"
   ]
  },
  {
   "cell_type": "code",
   "execution_count": 59,
   "metadata": {},
   "outputs": [],
   "source": [
    "class timeChooser:\n",
    "    def __init__(self, desc):\n",
    "        import ipywidgets as widgets\n",
    "        from IPython.display import display\n",
    "        from datetime import datetime\n",
    "        self.date_picker = widgets.DatePicker(description=desc)\n",
    "        self.end_hour_picker = widgets.IntSlider(description='Hours:', min=0, max=23)\n",
    "        self.end_minute_picker = widgets.IntSlider(description='Minutes:', min=0, max=59)\n",
    "        self.end_second_picker = widgets.IntSlider(description='Seconds:', min=0, max=59)\n",
    "        \n",
    "    \n",
    "    def on_date_change(self, change):\n",
    "        self.selected_date = self.change['new']\n",
    "        \n",
    "    def getDateTime(self):\n",
    "        from datetime import datetime\n",
    "        if self.date_picker.value != None:\n",
    "            dateTimeFormat = datetime(self.date_picker.value.year, self.date_picker.value.month, self.date_picker.value.day,\n",
    "                            self.end_hour_picker.value, self.end_minute_picker.value, self.end_second_picker.value)\n",
    "            return dateTimeFormat\n",
    "        else:\n",
    "            print('No date was set yet and NOW was returned as default')\n",
    "            return datetime.now()\n",
    "    def createWidget(self):\n",
    "        self.date_picker.observe(on_date_change, names='value')\n",
    "        time_pickers = widgets.HBox([self.end_hour_picker, self.end_minute_picker, self.end_second_picker])\n",
    "        date_and_time_pickers = widgets.VBox([self.date_picker, time_pickers])\n",
    "        return date_and_time_pickers\n",
    "        \n",
    "    def runDashboard(self):\n",
    "        # self.date_picker.observe(on_date_change, names='value')\n",
    "        # time_pickers = widgets.HBox([self.end_hour_picker, self.end_minute_picker, self.end_second_picker])\n",
    "        # date_and_time_pickers = widgets.VBox([self.date_picker, time_pickers])\n",
    "        display(self.createWidget())\n",
    "        \n",
    "        \n",
    "\n",
    "    "
   ]
  },
  {
   "cell_type": "code",
   "execution_count": null,
   "metadata": {},
   "outputs": [],
   "source": [
    "# Function to handle the button click event\n",
    "def showDate(date_picker):\n",
    "    selected_date = date_picker.value\n",
    "    start_time = datetime(selected_date.year, selected_date.month, selected_date.day,\n",
    "                        start_hour_picker.value, start_minute_picker.value, start_second_picker.value)\n",
    "    output_text.clear_output()\n",
    "    with output_text:\n",
    "        print(f\"Selected Date: {selected_date}\")\n",
    "        print(f\"Start Time: {start_time}\")\n",
    "\n",
    "class showDateButton:\n",
    "    def __init__(self, buttonName, **kwargs):\n",
    "        import ipywidgets as widgets\n",
    "        from IPython.display import display\n",
    "        from datetime import datetime\n",
    "        self.button = widgets.Button(description=buttonName)\n",
    "        self.kwargs =  kwargs.items()\n",
    "    \n",
    "    def buttonEventHandler(self):\n",
    "\n",
    "    \n",
    "    \n",
    "    \n",
    "\n",
    "# Create the button widget\n",
    "button = widgets.Button(description='Select')\n",
    "\n",
    "# Assign the button click event handler\n",
    "button.on_click(button_clicked)"
   ]
  },
  {
   "cell_type": "code",
   "execution_count": 62,
   "metadata": {},
   "outputs": [
    {
     "ename": "IndentationError",
     "evalue": "expected an indented block (<ipython-input-62-4b049b8806ae>, line 13)",
     "output_type": "error",
     "traceback": [
      "\u001b[1;36m  File \u001b[1;32m\"<ipython-input-62-4b049b8806ae>\"\u001b[1;36m, line \u001b[1;32m13\u001b[0m\n\u001b[1;33m    def\u001b[0m\n\u001b[1;37m      ^\u001b[0m\n\u001b[1;31mIndentationError\u001b[0m\u001b[1;31m:\u001b[0m expected an indented block\n"
     ]
    }
   ],
   "source": [
    "# conf = {\n",
    "    \n",
    "# }\n",
    "\n",
    "class dashboard:\n",
    "    def __init__(self, conf):\n",
    "        import ipywidgets as widgets\n",
    "        from IPython.display import display\n",
    "        self.conf = conf\n",
    "\n",
    "    def constructDash(self):\n",
    "        #TBD\n",
    "    def runDash(self):\n",
    "        #TBD\n",
    "        \n",
    "        \n",
    "        \n",
    "        \n",
    "dateTimePicker_start = timeChooser('start time')\n",
    "dateTimePicker_end = timeChooser('end time')\n",
    "items = [dateTimePicker_start.createWidget(), dateTimePicker_end.createWidget()]\n",
    "box = widgets.VBox(items)\n",
    "box"
   ]
  },
  {
   "cell_type": "code",
   "execution_count": 60,
   "metadata": {},
   "outputs": [
    {
     "data": {
      "application/vnd.jupyter.widget-view+json": {
       "model_id": "cd020a6eaa164390923fe55f91be25cc",
       "version_major": 2,
       "version_minor": 0
      },
      "text/plain": [
       "VBox(children=(DatePicker(value=None, description='start time'), HBox(children=(IntSlider(value=0, description…"
      ]
     },
     "metadata": {},
     "output_type": "display_data"
    },
    {
     "data": {
      "application/vnd.jupyter.widget-view+json": {
       "model_id": "a6b8e52bfb9a4bfc9a30e87de9680416",
       "version_major": 2,
       "version_minor": 0
      },
      "text/plain": [
       "VBox(children=(DatePicker(value=None, description='end time'), HBox(children=(IntSlider(value=0, description='…"
      ]
     },
     "metadata": {},
     "output_type": "display_data"
    }
   ],
   "source": [
    "dateTimePicker_start = timeChooser('start time')\n",
    "dateTimePicker_end = timeChooser('end time')\n",
    "# start_time_pickers = widgets.HBox([dateTimePicker])\n",
    "# display(start_time_pickers)\n",
    "dateTimePicker_start.runDashboard()\n",
    "dateTimePicker_end.runDashboard()\n"
   ]
  },
  {
   "cell_type": "code",
   "execution_count": 61,
   "metadata": {},
   "outputs": [
    {
     "data": {
      "text/plain": [
       "datetime.datetime(2023, 6, 15, 9, 0)"
      ]
     },
     "execution_count": 61,
     "metadata": {},
     "output_type": "execute_result"
    }
   ],
   "source": [
    "# print(dateTimePicker.date_picker.value)\n",
    "# print(dateTimePicker.end_hour_picker.value)\n",
    "dateTimePicker_start.getDateTime()"
   ]
  }
 ],
 "metadata": {
  "kernelspec": {
   "display_name": "base",
   "language": "python",
   "name": "python3"
  },
  "language_info": {
   "codemirror_mode": {
    "name": "ipython",
    "version": 3
   },
   "file_extension": ".py",
   "mimetype": "text/x-python",
   "name": "python",
   "nbconvert_exporter": "python",
   "pygments_lexer": "ipython3",
   "version": "3.7.4"
  },
  "orig_nbformat": 4
 },
 "nbformat": 4,
 "nbformat_minor": 2
}
