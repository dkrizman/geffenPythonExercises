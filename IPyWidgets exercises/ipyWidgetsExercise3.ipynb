{
 "cells": [
  {
   "cell_type": "code",
   "execution_count": 1,
   "metadata": {},
   "outputs": [
    {
     "data": {
      "application/vnd.jupyter.widget-view+json": {
       "model_id": "56022f97bc624fc7b28c42a97ae77c37",
       "version_major": 2,
       "version_minor": 0
      },
      "text/plain": [
       "Output()"
      ]
     },
     "metadata": {},
     "output_type": "display_data"
    }
   ],
   "source": [
    "import ipywidgets as widgets\n",
    "from IPython.display import display\n",
    "\n",
    "out = widgets.Output()\n",
    "\n",
    "with out:\n",
    "    for i in range(10):\n",
    "        print('hello World !!')\n",
    "        \n",
    "display(out)"
   ]
  },
  {
   "cell_type": "code",
   "execution_count": 16,
   "metadata": {},
   "outputs": [],
   "source": [
    "@out.capture(clear_output=True)\n",
    "def function_with_captured_output():\n",
    "    print('This goes into the output widget')\n",
    "    raise Exception('As does this')\n",
    "    \n",
    "function_with_captured_output()"
   ]
  },
  {
   "cell_type": "code",
   "execution_count": 3,
   "metadata": {},
   "outputs": [
    {
     "data": {
      "application/vnd.jupyter.widget-view+json": {
       "model_id": "38688fe477e741a9ae1768973d1d54af",
       "version_major": 2,
       "version_minor": 0
      },
      "text/plain": [
       "HBox(children=(VBox(children=(IntSlider(value=10, max=30, min=10), IntSlider(value=0), IntSlider(value=0))), O…"
      ]
     },
     "metadata": {},
     "output_type": "display_data"
    }
   ],
   "source": [
    "a = widgets.IntSlider(min=10,max=30,describtion = 'a')\n",
    "b = widgets.IntSlider(describtion = 'b')\n",
    "c = widgets.IntSlider(describtion = 'c')\n",
    "\n",
    "def f(a,b,c):\n",
    "    print(f'{a}+{b}+{c}={a+b+c}')\n",
    "    \n",
    "out = widgets.interactive_output(f,{'a':a,'b':b,'c':c})\n",
    "\n",
    "boxDash = widgets.HBox([widgets.VBox([a,b,c]),out])\n",
    "boxDash"
   ]
  },
  {
   "cell_type": "code",
   "execution_count": 4,
   "metadata": {},
   "outputs": [
    {
     "data": {
      "application/vnd.jupyter.widget-view+json": {
       "model_id": "cf4456320178412684d60010cc37cee5",
       "version_major": 2,
       "version_minor": 0
      },
      "text/plain": [
       "Output(outputs=({'name': 'stdout', 'text': '16+39+33=88\\n', 'output_type': 'stream'},))"
      ]
     },
     "metadata": {},
     "output_type": "display_data"
    }
   ],
   "source": [
    "out"
   ]
  },
  {
   "cell_type": "code",
   "execution_count": 2,
   "metadata": {},
   "outputs": [
    {
     "data": {
      "application/vnd.jupyter.widget-view+json": {
       "model_id": "37999e65c3bb4d7f98128f0706fd3d7f",
       "version_major": 2,
       "version_minor": 0
      },
      "text/plain": [
       "Button(description='click me', style=ButtonStyle())"
      ]
     },
     "metadata": {},
     "output_type": "display_data"
    },
    {
     "data": {
      "application/vnd.jupyter.widget-view+json": {
       "model_id": "13316e9c10984f0da04ee8602c549713",
       "version_major": 2,
       "version_minor": 0
      },
      "text/plain": [
       "Output()"
      ]
     },
     "metadata": {},
     "output_type": "display_data"
    }
   ],
   "source": [
    "# from traitlets import HasTraits\n",
    "button = widgets.Button(description='click me')\n",
    "output = widgets.Output()\n",
    "\n",
    "display(button, output)\n",
    "\n",
    "@output.capture()\n",
    "def onClick(a):\n",
    "    print('a button was clicked')\n",
    "    \n",
    "button.on_click(onClick)"
   ]
  },
  {
   "cell_type": "code",
   "execution_count": 31,
   "metadata": {},
   "outputs": [
    {
     "data": {
      "text/plain": [
       "'qSwBgPjHMpIwdRX'"
      ]
     },
     "execution_count": 31,
     "metadata": {},
     "output_type": "execute_result"
    }
   ],
   "source": [
    "import ipywidgets as widget\n",
    "\n",
    "def calcPw(len):\n",
    "    import string\n",
    "    import secrets\n",
    "    pw = ''.join(secrets.choice(string.ascii_letters) for _ in range(len))\n",
    "    \n",
    "    return pw\n",
    "\n",
    "calcPw(15)"
   ]
  },
  {
   "cell_type": "code",
   "execution_count": null,
   "metadata": {},
   "outputs": [],
   "source": [
    "button = widgets.Button(description='click me')\n",
    "title = widgets.HTML('generated pw is:')\n",
    "pw_text = widgets.HTML('no pw yet')\n",
    "pwLength = widgets.IntSlider(min=4, max=8)\n",
    "pwWidget = widgets.VBox(children=[title, pw_text, pwLength, button])\n",
    "\n",
    "output = widgets.Output()\n",
    "\n",
    "def handlerPw(change):\n",
    "    length = int(change.new)\n",
    "    newPw = calcPw(length)\n",
    "    pw_text.value = newPw\n",
    "    \n",
    "newPwValue = pwLength.observe(handlerPw, names='value')\n",
    "\n",
    "@output.capture()\n",
    "def onClick(a):\n",
    "    print('abc')\n",
    "\n",
    "button.on_click(onClick)\n",
    "\n",
    "display(pwWidget)"
   ]
  },
  {
   "cell_type": "code",
   "execution_count": 47,
   "metadata": {},
   "outputs": [
    {
     "name": "stdout",
     "output_type": "stream",
     "text": [
      "None\n"
     ]
    }
   ],
   "source": [
    "print(newPwValue)"
   ]
  }
 ],
 "metadata": {
  "kernelspec": {
   "display_name": "base",
   "language": "python",
   "name": "python3"
  },
  "language_info": {
   "codemirror_mode": {
    "name": "ipython",
    "version": 3
   },
   "file_extension": ".py",
   "mimetype": "text/x-python",
   "name": "python",
   "nbconvert_exporter": "python",
   "pygments_lexer": "ipython3",
   "version": "3.7.4"
  },
  "orig_nbformat": 4
 },
 "nbformat": 4,
 "nbformat_minor": 2
}
