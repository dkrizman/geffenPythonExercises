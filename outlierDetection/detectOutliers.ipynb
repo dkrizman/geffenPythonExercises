{
 "cells": [
  {
   "cell_type": "markdown",
   "metadata": {},
   "source": [
    "Z - Score"
   ]
  },
  {
   "cell_type": "code",
   "execution_count": 2,
   "metadata": {},
   "outputs": [],
   "source": [
    "import random as rd\n",
    "\n",
    "a = rd.randint(1000,2000)\n",
    "checkList = [rd.randint(1000,2000) for i in range(100,200)]"
   ]
  },
  {
   "cell_type": "code",
   "execution_count": 5,
   "metadata": {},
   "outputs": [
    {
     "data": {
      "text/plain": [
       "1470.07"
      ]
     },
     "execution_count": 5,
     "metadata": {},
     "output_type": "execute_result"
    }
   ],
   "source": [
    "import numpy as np\n",
    "stDiv = np.std(checkList)\n",
    "mean = np.average(checkList)\n",
    "mean"
   ]
  },
  {
   "cell_type": "code",
   "execution_count": 35,
   "metadata": {},
   "outputs": [
    {
     "name": "stdout",
     "output_type": "stream",
     "text": [
      "normal data\n"
     ]
    }
   ],
   "source": [
    "newVal = 2200\n",
    "zNew = (newVal-mean)/stDiv\n",
    "if zNew>3 :\n",
    "    print('outlier')\n",
    "else:\n",
    "    print('normal data')"
   ]
  },
  {
   "cell_type": "markdown",
   "metadata": {},
   "source": [
    "IQR * 1.5"
   ]
  },
  {
   "cell_type": "code",
   "execution_count": 33,
   "metadata": {},
   "outputs": [],
   "source": [
    "checkList.sort(reverse=False)\n",
    "Q1 = checkList[round(len(checkList)*0.25)]\n",
    "Q3 = checkList[round(len(checkList)*0.75)]\n",
    "IQR = Q3-Q1\n",
    "upperBarrier = Q3 + IQR*1.5\n",
    "lowerBarrier = Q1 - IQR*1.5"
   ]
  },
  {
   "cell_type": "code",
   "execution_count": 36,
   "metadata": {},
   "outputs": [
    {
     "name": "stdout",
     "output_type": "stream",
     "text": [
      "normal\n"
     ]
    }
   ],
   "source": [
    "if newVal>upperBarrier or newVal<lowerBarrier:\n",
    "    print('outlier')\n",
    "else:\n",
    "    print('normal')"
   ]
  },
  {
   "cell_type": "markdown",
   "metadata": {},
   "source": [
    "LOF - Local Outlier Factor"
   ]
  },
  {
   "cell_type": "code",
   "execution_count": 42,
   "metadata": {},
   "outputs": [
    {
     "data": {
      "text/plain": [
       "729.93"
      ]
     },
     "execution_count": 42,
     "metadata": {},
     "output_type": "execute_result"
    }
   ],
   "source": [
    "n = np.ones(len(checkList))*newVal\n",
    "d = n - checkList\n",
    "avgReachability = d.sum()/len(n)\n",
    "localDensity = 1/avgReachability"
   ]
  },
  {
   "cell_type": "code",
   "execution_count": 72,
   "metadata": {},
   "outputs": [],
   "source": [
    "class detectOutliers:\n",
    "    def __init__(self, oldList, newVal):\n",
    "        self.oldList = oldList\n",
    "        self.newVal = newVal\n",
    "        \n",
    "    def zScore(self):\n",
    "        from numpy import std,average\n",
    "        stDiv = std(self.oldList)\n",
    "        mean = average(self.oldList)\n",
    "        zNew = (self.newVal-mean)/stDiv\n",
    "        if zNew>3 :\n",
    "            print(zNew,' - outlier')\n",
    "        else:\n",
    "            print(zNew,' - normal data')"
   ]
  },
  {
   "cell_type": "code",
   "execution_count": 73,
   "metadata": {},
   "outputs": [
    {
     "name": "stdout",
     "output_type": "stream",
     "text": [
      "226.30223664564645  - outlier\n"
     ]
    }
   ],
   "source": [
    "check = detectOutliers(checkList, 59000)\n",
    "check.zScore()\n",
    "\n",
    "# from numpy import std,average\n",
    "# stDiv = std(checkList)\n",
    "# mean = average(checkList)\n",
    "# zNew = (newVal-mean)/stDiv\n",
    "\n",
    "# (59000-mean)/stDiv"
   ]
  },
  {
   "cell_type": "code",
   "execution_count": 74,
   "metadata": {},
   "outputs": [],
   "source": [
    "class defineStuff:\n",
    "    stInfo = {\"name\":\"daniel\",\n",
    "             \"age\":39}\n",
    "    genLists = [1,2,3,4,5]\n",
    "    \n",
    "\n",
    "a = defineStuff"
   ]
  },
  {
   "cell_type": "code",
   "execution_count": 81,
   "metadata": {},
   "outputs": [
    {
     "data": {
      "text/plain": [
       "2"
      ]
     },
     "execution_count": 81,
     "metadata": {},
     "output_type": "execute_result"
    }
   ],
   "source": [
    "a.genLists[0] = 2\n",
    "a.genLists[0]"
   ]
  }
 ],
 "metadata": {
  "kernelspec": {
   "display_name": "Python 3.7.4 ('base')",
   "language": "python",
   "name": "python3"
  },
  "language_info": {
   "codemirror_mode": {
    "name": "ipython",
    "version": 3
   },
   "file_extension": ".py",
   "mimetype": "text/x-python",
   "name": "python",
   "nbconvert_exporter": "python",
   "pygments_lexer": "ipython3",
   "version": "3.7.4"
  },
  "orig_nbformat": 4,
  "vscode": {
   "interpreter": {
    "hash": "8e11e6c1b2f70021b4f35f75997c50d31e1e32608c9c2a979f6922a16b3feba0"
   }
  }
 },
 "nbformat": 4,
 "nbformat_minor": 2
}
