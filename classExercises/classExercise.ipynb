{
 "cells": [
  {
   "cell_type": "code",
   "execution_count": 4,
   "metadata": {},
   "outputs": [],
   "source": [
    "from productivity.pointDefinitions import point"
   ]
  },
  {
   "cell_type": "code",
   "execution_count": 5,
   "metadata": {},
   "outputs": [
    {
     "data": {
      "text/plain": [
       "5.0"
      ]
     },
     "execution_count": 5,
     "metadata": {},
     "output_type": "execute_result"
    }
   ],
   "source": [
    "a = point(3,4)\n",
    "a.distance"
   ]
  },
  {
   "cell_type": "code",
   "execution_count": 19,
   "metadata": {},
   "outputs": [],
   "source": [
    "import math as m\n",
    "\n",
    "class LineGeo(point):\n",
    "    def __init__(self, x, y, a, b):\n",
    "        self.pointA = point(x,y)\n",
    "        self.pointB = point(a,b)\n",
    "        \n",
    "    def addVectors(self):\n",
    "        res = point(m.sqrt(self.pointA.x**2 + self.pointB.x**2), m.sqrt(self.pointA.y**2 + self.pointB.y**2))\n",
    "        return res\n",
    "    \n",
    "    def lineLen(self):\n",
    "        res = m.sqrt((self.pointA.x - self.pointB.x)**2 + (self.pointA.y - self.pointB.y)**2)\n",
    "        return res"
   ]
  },
  {
   "cell_type": "code",
   "execution_count": 21,
   "metadata": {},
   "outputs": [
    {
     "data": {
      "text/plain": [
       "2.8284271247461903"
      ]
     },
     "execution_count": 21,
     "metadata": {},
     "output_type": "execute_result"
    }
   ],
   "source": [
    "l = LineGeo(3,4,1,2)\n",
    "r = l.addVectors()\n",
    "r.distance\n",
    "l.lineLen()\n"
   ]
  },
  {
   "cell_type": "code",
   "execution_count": 44,
   "metadata": {},
   "outputs": [
    {
     "name": "stdout",
     "output_type": "stream",
     "text": [
      "1.0\n",
      "no exception was caught\n",
      "finished running operation\n"
     ]
    }
   ],
   "source": [
    "try:\n",
    "    print(1/1)\n",
    "except Exception as e:\n",
    "    print(\"Caught some error: %s\" %( e.__class__.__name__))\n",
    "    raise\n",
    "else:\n",
    "    print('no exception was caught')\n",
    "finally:\n",
    "    print('finished running operation')"
   ]
  },
  {
   "cell_type": "code",
   "execution_count": 1,
   "metadata": {},
   "outputs": [
    {
     "data": {
      "text/plain": [
       "1000"
      ]
     },
     "execution_count": 1,
     "metadata": {},
     "output_type": "execute_result"
    }
   ],
   "source": [
    "import productivity.geoShit as geo\n",
    "\n",
    "# a = geo.square(4)\n",
    "# a.area()\n",
    "\n",
    "b = geo.cube(10)\n",
    "b.volume()"
   ]
  },
  {
   "cell_type": "code",
   "execution_count": null,
   "metadata": {},
   "outputs": [],
   "source": [
    "from productivity.geoShit import rectangle, square\n",
    "\n",
    "class building(rectangle, square):\n",
    "    def __init__(self, length, width):\n",
    "        super().__init__(length, width)\n",
    "        \n",
    "    def face(self):\n",
    "        res = self.area()*4"
   ]
  }
 ],
 "metadata": {
  "kernelspec": {
   "display_name": "base",
   "language": "python",
   "name": "python3"
  },
  "language_info": {
   "codemirror_mode": {
    "name": "ipython",
    "version": 3
   },
   "file_extension": ".py",
   "mimetype": "text/x-python",
   "name": "python",
   "nbconvert_exporter": "python",
   "pygments_lexer": "ipython3",
   "version": "3.7.4 (default, Aug  9 2019, 18:34:13) [MSC v.1915 64 bit (AMD64)]"
  },
  "orig_nbformat": 4,
  "vscode": {
   "interpreter": {
    "hash": "8e11e6c1b2f70021b4f35f75997c50d31e1e32608c9c2a979f6922a16b3feba0"
   }
  }
 },
 "nbformat": 4,
 "nbformat_minor": 2
}
