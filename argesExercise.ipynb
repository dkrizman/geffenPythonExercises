{
 "cells": [
  {
   "cell_type": "code",
   "execution_count": 2,
   "metadata": {},
   "outputs": [
    {
     "name": "stdout",
     "output_type": "stream",
     "text": [
      "(1, 2, 3, 4) <class 'tuple'>\n",
      "10\n"
     ]
    }
   ],
   "source": [
    "def tryArgs(*args):\n",
    "    print(args, type(args))\n",
    "    print(sum(args))\n",
    "    \n",
    "tryArgs(1,2,3,4)"
   ]
  },
  {
   "cell_type": "code",
   "execution_count": 3,
   "metadata": {},
   "outputs": [
    {
     "name": "stdout",
     "output_type": "stream",
     "text": [
      "{'dan': 1, 'gef': 2, 'agy': 3} <class 'dict'>\n"
     ]
    }
   ],
   "source": [
    "def TryKargs(**kwargs):\n",
    "    print(kwargs, type(kwargs))\n",
    "    \n",
    "TryKargs(dan=1, gef=2, agy=3)"
   ]
  },
  {
   "cell_type": "code",
   "execution_count": 7,
   "metadata": {},
   "outputs": [
    {
     "name": "stdout",
     "output_type": "stream",
     "text": [
      "(0, (1, 2))\n",
      "(1, (1, 3))\n",
      "(2, (1, 4))\n",
      "(3, (1, 5))\n",
      "(4, (1, 6))\n",
      "(5, (1, 7))\n",
      "(6, (1, 8))\n",
      "(7, (2, 3))\n",
      "(8, (2, 4))\n",
      "(9, (2, 5))\n",
      "(10, (2, 6))\n",
      "(11, (2, 7))\n",
      "(12, (2, 8))\n",
      "(13, (3, 4))\n",
      "(14, (3, 5))\n",
      "(15, (3, 6))\n",
      "(16, (3, 7))\n",
      "(17, (3, 8))\n",
      "(18, (4, 5))\n",
      "(19, (4, 6))\n",
      "(20, (4, 7))\n",
      "(21, (4, 8))\n",
      "(22, (5, 6))\n",
      "(23, (5, 7))\n",
      "(24, (5, 8))\n",
      "(25, (6, 7))\n",
      "(26, (6, 8))\n",
      "(27, (7, 8))\n"
     ]
    }
   ],
   "source": [
    "a = [1,2,3,4,5,6,7,8]\n",
    "\n",
    "def all_pairs(a):\n",
    "    for i in range(len(a)):\n",
    "        for j in range(i+1, len(a)):\n",
    "            yield(a[i],a[j])\n",
    "            \n",
    "b = all_pairs(a)\n",
    "\n",
    "for i in enumerate(b):\n",
    "    print(i)"
   ]
  },
  {
   "cell_type": "code",
   "execution_count": 9,
   "metadata": {},
   "outputs": [
    {
     "data": {
      "text/plain": [
       "[[1, 1, 1, 1, 1, 1, 1, 1, 1, 1], [1, 3, 1, 1, 1, 1, 1, 1, 1, 1]]"
      ]
     },
     "execution_count": 9,
     "metadata": {},
     "output_type": "execute_result"
    }
   ],
   "source": [
    "m1 = [[1 for i in range(10)] for j in range(2)]\n",
    "m1[1][1] = 3\n",
    "m1"
   ]
  },
  {
   "cell_type": "code",
   "execution_count": 17,
   "metadata": {},
   "outputs": [
    {
     "data": {
      "text/html": [
       "<h3>Hello World</h3> <a href=\"classesExercise.ipynb\">link text</a>"
      ],
      "text/plain": [
       "Hello World"
      ]
     },
     "metadata": {},
     "output_type": "display_data"
    }
   ],
   "source": [
    "from IPython.display import display, FileLink, FileLinks\n",
    "display({'text/html': '<h1>Hello World</h1> <a href=\"classesExercise.ipynb\">link text</a>', 'text/plain': 'Hello World'}, raw=True)\n",
    "# FileLink('classesExercise.ipynb')"
   ]
  },
  {
   "cell_type": "code",
   "execution_count": 4,
   "metadata": {},
   "outputs": [
    {
     "name": "stdout",
     "output_type": "stream",
     "text": [
      "not empty\n"
     ]
    }
   ],
   "source": [
    "a= 'd'\n",
    "\n",
    "if a:\n",
    "    print('not empty')\n",
    "else:\n",
    "    print('empty')"
   ]
  }
 ],
 "metadata": {
  "kernelspec": {
   "display_name": "base",
   "language": "python",
   "name": "python3"
  },
  "language_info": {
   "codemirror_mode": {
    "name": "ipython",
    "version": 3
   },
   "file_extension": ".py",
   "mimetype": "text/x-python",
   "name": "python",
   "nbconvert_exporter": "python",
   "pygments_lexer": "ipython3",
   "version": "3.7.4"
  },
  "orig_nbformat": 4,
  "vscode": {
   "interpreter": {
    "hash": "8e11e6c1b2f70021b4f35f75997c50d31e1e32608c9c2a979f6922a16b3feba0"
   }
  }
 },
 "nbformat": 4,
 "nbformat_minor": 2
}
