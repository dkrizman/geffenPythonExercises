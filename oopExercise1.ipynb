{
 "cells": [
  {
   "cell_type": "code",
   "execution_count": 3,
   "source": [
    "class rectangle:\r\n",
    "    def area(self):\r\n",
    "        return self.length*self.width"
   ],
   "outputs": [],
   "metadata": {}
  },
  {
   "cell_type": "code",
   "execution_count": 4,
   "source": [
    "a = rectangle()\r\n",
    "a.length, a.width = 5,7\r\n",
    "\r\n",
    "a.area()"
   ],
   "outputs": [
    {
     "output_type": "execute_result",
     "data": {
      "text/plain": [
       "35"
      ]
     },
     "metadata": {},
     "execution_count": 4
    }
   ],
   "metadata": {}
  },
  {
   "cell_type": "code",
   "execution_count": 2,
   "source": [
    "class card:\r\n",
    "    def __init__(self, rank, suit):\r\n",
    "        self.suit = suit\r\n",
    "        self. rank = rank\r\n",
    "        self.hard, self.soft = self._points()\r\n",
    "\r\n",
    "class numberCard(card):\r\n",
    "    def _points(self):\r\n",
    "        return int(self.rank), int(self.rank)\r\n",
    "\r\n",
    "class aceCard(card):\r\n",
    "    def _points(self):\r\n",
    "        return 1,11\r\n",
    "\r\n",
    "class faceCard(card):\r\n",
    "    def _points(self):\r\n",
    "        return 10, 10"
   ],
   "outputs": [],
   "metadata": {}
  },
  {
   "cell_type": "code",
   "execution_count": 16,
   "source": [
    "a  = faceCard('J',2)"
   ],
   "outputs": [],
   "metadata": {}
  },
  {
   "cell_type": "code",
   "execution_count": 19,
   "source": [
    "a._points()\r\n",
    "a.suit"
   ],
   "outputs": [
    {
     "output_type": "execute_result",
     "data": {
      "text/plain": [
       "2"
      ]
     },
     "metadata": {},
     "execution_count": 19
    }
   ],
   "metadata": {}
  },
  {
   "cell_type": "code",
   "execution_count": 3,
   "source": [
    "class suit:\r\n",
    "    def __init__(self, name, symbol):\r\n",
    "        self.name = name\r\n",
    "        self.symbol = symbol"
   ],
   "outputs": [],
   "metadata": {}
  },
  {
   "cell_type": "code",
   "execution_count": 4,
   "source": [
    "club, diamond, heart, spade = suit('Club', '♣'), suit('Diamond', '♦'), suit('Heart', '♥'), suit('Spade', '♠')"
   ],
   "outputs": [],
   "metadata": {}
  },
  {
   "cell_type": "code",
   "execution_count": 23,
   "source": [
    "club.symbol"
   ],
   "outputs": [
    {
     "output_type": "execute_result",
     "data": {
      "text/plain": [
       "'♣'"
      ]
     },
     "metadata": {},
     "execution_count": 23
    }
   ],
   "metadata": {}
  },
  {
   "cell_type": "code",
   "execution_count": 5,
   "source": [
    "#factory function\r\n",
    "def card4(rank, suit):\r\n",
    "    class_= {1:aceCard, 11:faceCard, 12:faceCard, 13:faceCard }.get(rank, numberCard)\r\n",
    "    return class_(rank, suit)"
   ],
   "outputs": [],
   "metadata": {}
  },
  {
   "cell_type": "code",
   "execution_count": 7,
   "source": [
    "a = card4(1, 'club')\r\n",
    "a.suit"
   ],
   "outputs": [
    {
     "output_type": "execute_result",
     "data": {
      "text/plain": [
       "'club'"
      ]
     },
     "metadata": {},
     "execution_count": 7
    }
   ],
   "metadata": {}
  },
  {
   "cell_type": "code",
   "execution_count": 8,
   "source": [
    "d = [card4(r+1, s) for r in range(13) for s in (club, diamond, heart, spade)]\r\n",
    "import random\r\n",
    "random.shuffle(d)\r\n",
    "hand = [d.pop(), d.pop()]\r\n",
    "\r\n",
    "print(hand[0].rank)"
   ],
   "outputs": [
    {
     "output_type": "stream",
     "name": "stdout",
     "text": [
      "7\n"
     ]
    }
   ],
   "metadata": {}
  },
  {
   "cell_type": "code",
   "execution_count": 9,
   "source": [
    "a=d.pop()\r\n",
    "a.suit.symbol"
   ],
   "outputs": [
    {
     "output_type": "execute_result",
     "data": {
      "text/plain": [
       "'♠'"
      ]
     },
     "metadata": {},
     "execution_count": 9
    }
   ],
   "metadata": {}
  },
  {
   "cell_type": "code",
   "execution_count": 12,
   "source": [
    "def factors(n):\r\n",
    "    results = []\r\n",
    "    for k in range(1,n+1):\r\n",
    "        if n%k==0:\r\n",
    "            results.append(k)\r\n",
    "    return results\r\n",
    "\r\n",
    "def factors2(n):\r\n",
    "    for k in range(1,n+1):\r\n",
    "        if n&k==0:\r\n",
    "            yield k"
   ],
   "outputs": [],
   "metadata": {}
  },
  {
   "cell_type": "code",
   "execution_count": 23,
   "source": [
    "k = int(input('enter some number'))\r\n",
    "a = k if k>100 else -1\r\n",
    "print(a)"
   ],
   "outputs": [
    {
     "output_type": "stream",
     "name": "stdout",
     "text": [
      "-1\n"
     ]
    }
   ],
   "metadata": {}
  }
 ],
 "metadata": {
  "orig_nbformat": 4,
  "language_info": {
   "name": "python",
   "version": "3.7.4",
   "mimetype": "text/x-python",
   "codemirror_mode": {
    "name": "ipython",
    "version": 3
   },
   "pygments_lexer": "ipython3",
   "nbconvert_exporter": "python",
   "file_extension": ".py"
  },
  "kernelspec": {
   "name": "python3",
   "display_name": "Python 3.7.4 64-bit ('base': conda)"
  },
  "interpreter": {
   "hash": "ed3bb7afc59ed97cf88a0907716fbdc242e5af871b22b080c23a3e1b24d1e4e3"
  }
 },
 "nbformat": 4,
 "nbformat_minor": 2
}