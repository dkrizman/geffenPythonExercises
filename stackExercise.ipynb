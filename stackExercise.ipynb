{
 "cells": [
  {
   "cell_type": "code",
   "execution_count": 33,
   "metadata": {},
   "outputs": [],
   "source": [
    "class Empty(Exception):\n",
    "    '''\n",
    "    Error attempting to access an element from an empty container.\n",
    "    '''\n",
    "    pass\n",
    "\n",
    "class ArrayStack:\n",
    "    '''\n",
    "    lifo stack impementation of python\n",
    "    '''\n",
    "    def __init__(self):\n",
    "        '''\n",
    "        create an empty stack\n",
    "        '''\n",
    "        self._data = []\n",
    "        \n",
    "    def __len__(self):\n",
    "        '''\n",
    "        returns number of elements in the stack\n",
    "        '''\n",
    "        return len(self._data)\n",
    "    \n",
    "    def isEmpty(self):\n",
    "        '''\n",
    "        returns boolean for is empty\n",
    "        '''\n",
    "        return len(self._data) == 0\n",
    "    \n",
    "    def push(self, e):\n",
    "        '''\n",
    "        adds an element to the top of the stack\n",
    "        '''\n",
    "        self._data.append(e)\n",
    "        \n",
    "    def top(self):\n",
    "        '''\n",
    "        returns the element from the top of the stack\n",
    "        '''\n",
    "        if self.isEmpty():\n",
    "            raise Empty('Stack is empty')\n",
    "        return self._data[-1]\n",
    "        \n",
    "    def pop(self):\n",
    "        '''\n",
    "        remove and return the top element from the top of the stack\n",
    "        '''\n",
    "        if self.isEmpty():\n",
    "            raise Empty('Stack is empty')\n",
    "        return self._data.pop()\n",
    "        \n",
    "    def reverseStack(self):\n",
    "        if self.isEmpty():\n",
    "            raise Empty('Stack is empty')\n",
    "        r = ArrayStack()\n",
    "        while not self.isEmpty():\n",
    "            a = self.pop()\n",
    "            r.push(a)\n",
    "        return r\n",
    "            "
   ]
  },
  {
   "cell_type": "code",
   "execution_count": 51,
   "metadata": {},
   "outputs": [],
   "source": [
    "a = ArrayStack()\n",
    "a.push(3)\n",
    "a.push(5)\n",
    "len(a)\n",
    "# r = a.reverseStack()\n",
    "# r.top()\n",
    "def createRandomStack(n=1):\n",
    "    from random import randint as rndInt\n",
    "    stk = ArrayStack()\n",
    "    for i in range(n):\n",
    "        stk.push(rndInt(0,n))\n",
    "    return stk"
   ]
  },
  {
   "cell_type": "code",
   "execution_count": 53,
   "metadata": {},
   "outputs": [
    {
     "data": {
      "text/plain": [
       "100"
      ]
     },
     "execution_count": 53,
     "metadata": {},
     "output_type": "execute_result"
    }
   ],
   "source": [
    "a = createRandomStack(100)\n",
    "len(a)"
   ]
  },
  {
   "cell_type": "code",
   "execution_count": 61,
   "metadata": {},
   "outputs": [],
   "source": [
    "# R-6.3\n",
    "def transfer(S,T):\n",
    "    if len(S) == 0:\n",
    "        return T\n",
    "    else:\n",
    "        while S.isEmpty() == False:\n",
    "            temp = S.pop()\n",
    "            T.push(temp)\n",
    "    return T\n",
    "\n",
    "S = createRandomStack(20)\n",
    "T = createRandomStack(40)\n",
    "T = transfer(S,T)"
   ]
  },
  {
   "cell_type": "code",
   "execution_count": 95,
   "metadata": {},
   "outputs": [
    {
     "data": {
      "text/plain": [
       "31"
      ]
     },
     "execution_count": 95,
     "metadata": {},
     "output_type": "execute_result"
    }
   ],
   "source": [
    "#R-6.4\n",
    "def removeAllRecursively(S= ArrayStack()):\n",
    "    if len(S) == 0:\n",
    "        return S\n",
    "    elif len(S) == 1:\n",
    "        S.pop()\n",
    "        return S\n",
    "    else:\n",
    "        S.pop()\n",
    "        removeAllRecursively(S)\n",
    "\n",
    "stk = createRandomStack(100)\n",
    "stk.top()"
   ]
  },
  {
   "cell_type": "code",
   "execution_count": 97,
   "metadata": {},
   "outputs": [
    {
     "data": {
      "text/plain": [
       "True"
      ]
     },
     "execution_count": 97,
     "metadata": {},
     "output_type": "execute_result"
    }
   ],
   "source": [
    "removeAllRecursively(stk)\n",
    "stk.isEmpty()"
   ]
  }
 ],
 "metadata": {
  "kernelspec": {
   "display_name": "Python 3.7.4 ('base')",
   "language": "python",
   "name": "python3"
  },
  "language_info": {
   "codemirror_mode": {
    "name": "ipython",
    "version": 3
   },
   "file_extension": ".py",
   "mimetype": "text/x-python",
   "name": "python",
   "nbconvert_exporter": "python",
   "pygments_lexer": "ipython3",
   "version": "3.7.4"
  },
  "orig_nbformat": 4,
  "vscode": {
   "interpreter": {
    "hash": "8e11e6c1b2f70021b4f35f75997c50d31e1e32608c9c2a979f6922a16b3feba0"
   }
  }
 },
 "nbformat": 4,
 "nbformat_minor": 2
}
