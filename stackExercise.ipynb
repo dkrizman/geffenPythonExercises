{
 "cells": [
  {
   "cell_type": "code",
   "execution_count": 28,
   "source": [
    "class Empty(Exception):\r\n",
    "    '''\r\n",
    "    Error attempting to access an element from an empty container.\r\n",
    "    '''\r\n",
    "    pass\r\n",
    "\r\n",
    "class ArrayStack:\r\n",
    "    '''\r\n",
    "    lifo stack impementation of python\r\n",
    "    '''\r\n",
    "    def __init__(self):\r\n",
    "        '''\r\n",
    "        create an empty stack\r\n",
    "        '''\r\n",
    "        self._data = []\r\n",
    "        \r\n",
    "    def __len__(self):\r\n",
    "        '''\r\n",
    "        returns number of elements in the stack\r\n",
    "        '''\r\n",
    "        return len(self._data)\r\n",
    "    \r\n",
    "    def isEmpty(self):\r\n",
    "        '''\r\n",
    "        returns boolean for is empty\r\n",
    "        '''\r\n",
    "        return len(self._data) == 0\r\n",
    "    \r\n",
    "    def push(self, e):\r\n",
    "        '''\r\n",
    "        adds an element to the top of the stack\r\n",
    "        '''\r\n",
    "        self._data.append(e)\r\n",
    "        \r\n",
    "    def top(self):\r\n",
    "        '''\r\n",
    "        returns the element from the top of the stack\r\n",
    "        '''\r\n",
    "        if self.isEmpty():\r\n",
    "            raise Empty('Stack is empty')\r\n",
    "        return self._data[-1]\r\n",
    "        \r\n",
    "    def pop(self):\r\n",
    "        '''\r\n",
    "        remove and return the top element from the top of the stack\r\n",
    "        '''\r\n",
    "        if self.isEmpty():\r\n",
    "            raise Empty('Stack is empty')\r\n",
    "        return self._data.pop()\r\n",
    "        \r\n",
    "    def reverseStack(self):\r\n",
    "        if self.isEmpty():\r\n",
    "            raise Empty('Stack is empty')\r\n",
    "        r = ArrayStack()\r\n",
    "        while not self.isEmpty():\r\n",
    "            a = self.pop()\r\n",
    "            r.push(a)\r\n",
    "        return r\r\n",
    "            "
   ],
   "outputs": [],
   "metadata": {}
  },
  {
   "cell_type": "code",
   "execution_count": 21,
   "source": [
    "a = ArrayStack()\r\n",
    "a.push(3)\r\n",
    "a.push(5)\r\n",
    "len(a)\r\n",
    "r = a.reverseStack()\r\n",
    "r.top()"
   ],
   "outputs": [
    {
     "output_type": "execute_result",
     "data": {
      "text/plain": [
       "3"
      ]
     },
     "metadata": {},
     "execution_count": 21
    }
   ],
   "metadata": {}
  },
  {
   "cell_type": "code",
   "execution_count": 29,
   "source": [
    "c=ArrayStack()\r\n",
    "c.top()"
   ],
   "outputs": [
    {
     "output_type": "error",
     "ename": "Empty",
     "evalue": "Stack is empty",
     "traceback": [
      "\u001b[1;31m---------------------------------------------------------------------------\u001b[0m",
      "\u001b[1;31mEmpty\u001b[0m                                     Traceback (most recent call last)",
      "\u001b[1;32m<ipython-input-29-d7d04f2f27f3>\u001b[0m in \u001b[0;36m<module>\u001b[1;34m\u001b[0m\n\u001b[0;32m      1\u001b[0m \u001b[0mc\u001b[0m\u001b[1;33m=\u001b[0m\u001b[0mArrayStack\u001b[0m\u001b[1;33m(\u001b[0m\u001b[1;33m)\u001b[0m\u001b[1;33m\u001b[0m\u001b[1;33m\u001b[0m\u001b[0m\n\u001b[1;32m----> 2\u001b[1;33m \u001b[0mc\u001b[0m\u001b[1;33m.\u001b[0m\u001b[0mtop\u001b[0m\u001b[1;33m(\u001b[0m\u001b[1;33m)\u001b[0m\u001b[1;33m\u001b[0m\u001b[1;33m\u001b[0m\u001b[0m\n\u001b[0m",
      "\u001b[1;32m<ipython-input-28-50b828bf7280>\u001b[0m in \u001b[0;36mtop\u001b[1;34m(self)\u001b[0m\n\u001b[0;32m     38\u001b[0m         '''\n\u001b[0;32m     39\u001b[0m         \u001b[1;32mif\u001b[0m \u001b[0mself\u001b[0m\u001b[1;33m.\u001b[0m\u001b[0misEmpty\u001b[0m\u001b[1;33m(\u001b[0m\u001b[1;33m)\u001b[0m\u001b[1;33m:\u001b[0m\u001b[1;33m\u001b[0m\u001b[1;33m\u001b[0m\u001b[0m\n\u001b[1;32m---> 40\u001b[1;33m             \u001b[1;32mraise\u001b[0m \u001b[0mEmpty\u001b[0m\u001b[1;33m(\u001b[0m\u001b[1;34m'Stack is empty'\u001b[0m\u001b[1;33m)\u001b[0m\u001b[1;33m\u001b[0m\u001b[1;33m\u001b[0m\u001b[0m\n\u001b[0m\u001b[0;32m     41\u001b[0m         \u001b[1;32mreturn\u001b[0m \u001b[0mself\u001b[0m\u001b[1;33m.\u001b[0m\u001b[0m_data\u001b[0m\u001b[1;33m[\u001b[0m\u001b[1;33m-\u001b[0m\u001b[1;36m1\u001b[0m\u001b[1;33m]\u001b[0m\u001b[1;33m\u001b[0m\u001b[1;33m\u001b[0m\u001b[0m\n\u001b[0;32m     42\u001b[0m \u001b[1;33m\u001b[0m\u001b[0m\n",
      "\u001b[1;31mEmpty\u001b[0m: Stack is empty"
     ]
    }
   ],
   "metadata": {}
  }
 ],
 "metadata": {
  "orig_nbformat": 4,
  "language_info": {
   "name": "python",
   "version": "3.7.4",
   "mimetype": "text/x-python",
   "codemirror_mode": {
    "name": "ipython",
    "version": 3
   },
   "pygments_lexer": "ipython3",
   "nbconvert_exporter": "python",
   "file_extension": ".py"
  },
  "kernelspec": {
   "name": "python3",
   "display_name": "Python 3.7.4 64-bit ('base': conda)"
  },
  "interpreter": {
   "hash": "ed3bb7afc59ed97cf88a0907716fbdc242e5af871b22b080c23a3e1b24d1e4e3"
  }
 },
 "nbformat": 4,
 "nbformat_minor": 2
}