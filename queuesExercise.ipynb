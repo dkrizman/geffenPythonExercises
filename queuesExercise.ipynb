{
 "cells": [
  {
   "cell_type": "code",
   "execution_count": 1,
   "source": [
    "class Empty(Exception):\r\n",
    "    '''\r\n",
    "    Error attempting to access an element from an empty container.\r\n",
    "    '''\r\n",
    "    pass"
   ],
   "outputs": [],
   "metadata": {}
  },
  {
   "cell_type": "code",
   "execution_count": null,
   "source": [
    "class ArrayQueue:\r\n",
    "    '''\r\n",
    "    FIFo queue implementation\r\n",
    "    '''\r\n",
    "    defaultCapacity = 10 #initial capacity for new queues\r\n",
    "    \r\n",
    "    def __init__(self):\r\n",
    "        self._data = [None] * ArrayQueue.defaultCapacity\r\n",
    "        self._size = 0\r\n",
    "        self._front = 0\r\n",
    "        \r\n",
    "    def __len__(self):\r\n",
    "        '''\r\n",
    "        return number of elements in the queue\r\n",
    "        '''\r\n",
    "        return self._size\r\n",
    "    \r\n",
    "    def isEmpty(self):\r\n",
    "        '''\r\n",
    "        return true if queue is empty\r\n",
    "        '''\r\n",
    "        return self._size == 0\r\n",
    "    \r\n",
    "    def first(self):\r\n",
    "        '''\r\n",
    "        return but not remove the first element in the queue\r\n",
    "        '''\r\n",
    "        if self.isEmpty():\r\n",
    "            raise Empty('Queue is empty')\r\n",
    "        return self._data[self._front]\r\n",
    "    \r\n",
    "    def dequeue(self):\r\n",
    "        '''\r\n",
    "        remove and return the first element in the queue (FIFO)\r\n",
    "        '''\r\n",
    "        if self.isEmpty():\r\n",
    "            raise('Queue is empty')\r\n",
    "        res = self._data[self._front]\r\n",
    "        self._data[self_front] = None\r\n",
    "        self._front = (self._front + 1) % len(self._data)\r\n",
    "        self._size -= 1\r\n",
    "        if 0<self._size<len(self._data)//4:\r\n",
    "            self.resize(len(self._data)//2)\r\n",
    "        return res\r\n",
    "    \r\n",
    "    def enqueue(self, e):\r\n",
    "        '''\r\n",
    "        add an element to the back of the queue\r\n",
    "        '''\r\n",
    "        if self._size == len(self._data):\r\n",
    "            self._resize(2*len(self._data))\r\n",
    "        avail = (self._front + self._size) % len(self._data)\r\n",
    "        self._data[avail] = e\r\n",
    "        self._size += 1\r\n",
    "    \r\n",
    "    def _resize(self, cap):\r\n",
    "        '''\r\n",
    "        resize to a new len of capacity\r\n",
    "        '''\r\n",
    "        old = self._data\r\n",
    "        self._data = [None] * cap\r\n",
    "        walk = self._front\r\n",
    "        for k in  range(self._size):\r\n",
    "            self._data[k] = old[walk]\r\n",
    "            walk = (1+walk) % len(old)\r\n",
    "        self._front = 0\r\n",
    "        \r\n",
    "        \r\n",
    "    "
   ],
   "outputs": [],
   "metadata": {}
  }
 ],
 "metadata": {
  "orig_nbformat": 4,
  "language_info": {
   "name": "python",
   "version": "3.7.4",
   "mimetype": "text/x-python",
   "codemirror_mode": {
    "name": "ipython",
    "version": 3
   },
   "pygments_lexer": "ipython3",
   "nbconvert_exporter": "python",
   "file_extension": ".py"
  },
  "kernelspec": {
   "name": "python3",
   "display_name": "Python 3.7.4 64-bit ('base': conda)"
  },
  "interpreter": {
   "hash": "ed3bb7afc59ed97cf88a0907716fbdc242e5af871b22b080c23a3e1b24d1e4e3"
  }
 },
 "nbformat": 4,
 "nbformat_minor": 2
}