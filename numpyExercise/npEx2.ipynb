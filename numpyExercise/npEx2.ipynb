{
 "cells": [
  {
   "cell_type": "code",
   "execution_count": 4,
   "source": [
    "from random import randint\r\n",
    "randint(0,30)"
   ],
   "outputs": [
    {
     "output_type": "execute_result",
     "data": {
      "text/plain": [
       "4"
      ]
     },
     "metadata": {},
     "execution_count": 4
    }
   ],
   "metadata": {}
  },
  {
   "cell_type": "code",
   "execution_count": 7,
   "source": [
    "import numpy as np \r\n",
    "\r\n",
    "npTempCel = np.random.randint(1,30,100)\r\n",
    "npTempCel"
   ],
   "outputs": [
    {
     "output_type": "execute_result",
     "data": {
      "text/plain": [
       "array([15,  6, 19, 27, 12, 21, 22, 12, 28,  5, 15, 23, 20,  6, 27, 18,  8,\n",
       "       19, 12, 24, 11, 26, 20, 22, 10,  5, 17, 20, 12, 11, 12,  3,  9, 26,\n",
       "       17,  8,  7, 10,  7,  6, 12, 13, 23, 22,  4, 11,  8,  2,  6,  5, 25,\n",
       "       19, 29, 24, 28, 26,  4, 15, 14,  3, 28, 11, 22,  5, 20, 28,  4,  8,\n",
       "       19, 22, 14, 12,  9,  1,  4, 12,  6, 20, 29,  8, 11, 14,  9,  4, 13,\n",
       "        2,  1, 12, 11, 20, 26,  3, 23, 24, 29, 11, 11, 12,  6, 16])"
      ]
     },
     "metadata": {},
     "execution_count": 7
    }
   ],
   "metadata": {}
  },
  {
   "cell_type": "code",
   "execution_count": 8,
   "source": [
    "npTempFer = npTempCel*9/5+32\r\n",
    "npTempFer"
   ],
   "outputs": [
    {
     "output_type": "execute_result",
     "data": {
      "text/plain": [
       "array([59. , 42.8, 66.2, 80.6, 53.6, 69.8, 71.6, 53.6, 82.4, 41. , 59. ,\n",
       "       73.4, 68. , 42.8, 80.6, 64.4, 46.4, 66.2, 53.6, 75.2, 51.8, 78.8,\n",
       "       68. , 71.6, 50. , 41. , 62.6, 68. , 53.6, 51.8, 53.6, 37.4, 48.2,\n",
       "       78.8, 62.6, 46.4, 44.6, 50. , 44.6, 42.8, 53.6, 55.4, 73.4, 71.6,\n",
       "       39.2, 51.8, 46.4, 35.6, 42.8, 41. , 77. , 66.2, 84.2, 75.2, 82.4,\n",
       "       78.8, 39.2, 59. , 57.2, 37.4, 82.4, 51.8, 71.6, 41. , 68. , 82.4,\n",
       "       39.2, 46.4, 66.2, 71.6, 57.2, 53.6, 48.2, 33.8, 39.2, 53.6, 42.8,\n",
       "       68. , 84.2, 46.4, 51.8, 57.2, 48.2, 39.2, 55.4, 35.6, 33.8, 53.6,\n",
       "       51.8, 68. , 78.8, 37.4, 73.4, 75.2, 84.2, 51.8, 51.8, 53.6, 42.8,\n",
       "       60.8])"
      ]
     },
     "metadata": {},
     "execution_count": 8
    }
   ],
   "metadata": {}
  },
  {
   "cell_type": "code",
   "execution_count": 17,
   "source": [
    "# npTempFer[npTempFer<50]\r\n",
    "\r\n",
    "mask = npTempFer<50\r\n",
    "npTempFer[mask]"
   ],
   "outputs": [
    {
     "output_type": "execute_result",
     "data": {
      "text/plain": [
       "array([42.8, 41. , 42.8, 46.4, 41. , 37.4, 48.2, 46.4, 44.6, 44.6, 42.8,\n",
       "       39.2, 46.4, 35.6, 42.8, 41. , 39.2, 37.4, 41. , 39.2, 46.4, 48.2,\n",
       "       33.8, 39.2, 42.8, 46.4, 48.2, 39.2, 35.6, 33.8, 37.4, 42.8])"
      ]
     },
     "metadata": {},
     "execution_count": 17
    }
   ],
   "metadata": {}
  },
  {
   "cell_type": "code",
   "execution_count": 18,
   "source": [
    "npDriveData = np.random.randint(0,100,[10,6])\r\n",
    "npDriveData"
   ],
   "outputs": [
    {
     "output_type": "execute_result",
     "data": {
      "text/plain": [
       "array([[ 2, 47, 65, 10, 21, 40],\n",
       "       [55, 30, 33, 47, 60, 42],\n",
       "       [11,  9, 47,  9, 24, 68],\n",
       "       [56, 56, 12, 87, 45, 28],\n",
       "       [21, 41, 31,  4,  0, 24],\n",
       "       [70, 51, 29, 18, 76, 41],\n",
       "       [60, 22, 95, 89, 68, 45],\n",
       "       [ 7, 72, 75, 88, 68, 67],\n",
       "       [27, 89, 49, 68, 23, 23],\n",
       "       [82, 54, 30,  6, 26, 46]])"
      ]
     },
     "metadata": {},
     "execution_count": 18
    }
   ],
   "metadata": {}
  },
  {
   "cell_type": "code",
   "execution_count": 26,
   "source": [
    "npDriveData[:,1]>55"
   ],
   "outputs": [
    {
     "output_type": "execute_result",
     "data": {
      "text/plain": [
       "array([False, False, False,  True, False, False, False,  True,  True,\n",
       "       False])"
      ]
     },
     "metadata": {},
     "execution_count": 26
    }
   ],
   "metadata": {}
  },
  {
   "cell_type": "code",
   "execution_count": 27,
   "source": [
    "mask1 = npDriveData>40\r\n",
    "mask2 = npDriveData<20\r\n",
    "\r\n",
    "npDriveData[(mask1 | mask2)]"
   ],
   "outputs": [
    {
     "output_type": "execute_result",
     "data": {
      "text/plain": [
       "array([ 2, 47, 65, 10, 55, 47, 60, 42, 11,  9, 47,  9, 68, 56, 56, 12, 87,\n",
       "       45, 41,  4,  0, 70, 51, 18, 76, 41, 60, 95, 89, 68, 45,  7, 72, 75,\n",
       "       88, 68, 67, 89, 49, 68, 82, 54,  6, 46])"
      ]
     },
     "metadata": {},
     "execution_count": 27
    }
   ],
   "metadata": {}
  }
 ],
 "metadata": {
  "orig_nbformat": 4,
  "language_info": {
   "name": "python",
   "version": "3.7.4",
   "mimetype": "text/x-python",
   "codemirror_mode": {
    "name": "ipython",
    "version": 3
   },
   "pygments_lexer": "ipython3",
   "nbconvert_exporter": "python",
   "file_extension": ".py"
  },
  "kernelspec": {
   "name": "python3",
   "display_name": "Python 3.7.4 64-bit ('base': conda)"
  },
  "interpreter": {
   "hash": "ed3bb7afc59ed97cf88a0907716fbdc242e5af871b22b080c23a3e1b24d1e4e3"
  }
 },
 "nbformat": 4,
 "nbformat_minor": 2
}