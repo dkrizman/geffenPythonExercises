{
 "cells": [
  {
   "cell_type": "code",
   "execution_count": 17,
   "source": [
    "import random as rd\r\n",
    "import numpy as np\r\n",
    "\r\n",
    "randomList = np.random.randint(500, size=500)\r\n",
    "randomList.sort()"
   ],
   "outputs": [],
   "metadata": {}
  },
  {
   "cell_type": "code",
   "execution_count": 25,
   "source": [
    "randomList[197]\r\n",
    "# len(randomList)"
   ],
   "outputs": [
    {
     "output_type": "execute_result",
     "data": {
      "text/plain": [
       "230"
      ]
     },
     "metadata": {},
     "execution_count": 25
    }
   ],
   "metadata": {}
  },
  {
   "cell_type": "code",
   "execution_count": 24,
   "source": [
    "# randomList[8]\r\n",
    "\r\n",
    "def binSrc(sortedList,target, l, h):\r\n",
    "    if l>h:\r\n",
    "        print('target not found')\r\n",
    "    elif l == h:\r\n",
    "        return l\r\n",
    "    else: \r\n",
    "        mid = (h+l)//2\r\n",
    "        if target == sortedList[mid]:\r\n",
    "            return mid\r\n",
    "        elif target < sortedList[mid]:\r\n",
    "            return binSrc(sortedList, target, l,mid-1)\r\n",
    "        else:\r\n",
    "            return binSrc(sortedList, target, mid+1,h)\r\n",
    "    \r\n",
    "binSrc(randomList,230, 0,len(randomList))\r\n",
    "\r\n"
   ],
   "outputs": [
    {
     "output_type": "execute_result",
     "data": {
      "text/plain": [
       "197"
      ]
     },
     "metadata": {},
     "execution_count": 24
    }
   ],
   "metadata": {}
  },
  {
   "cell_type": "code",
   "execution_count": 31,
   "source": [
    "def badFibo(n):\r\n",
    "    if n<=1:\r\n",
    "        return n\r\n",
    "    else:\r\n",
    "        return badFibo(n-2) + badFibo(n-1)\r\n",
    "    \r\n",
    "badFibo(32)"
   ],
   "outputs": [
    {
     "output_type": "execute_result",
     "data": {
      "text/plain": [
       "2178309"
      ]
     },
     "metadata": {},
     "execution_count": 31
    }
   ],
   "metadata": {}
  },
  {
   "cell_type": "code",
   "execution_count": 32,
   "source": [
    "def goodFibo(n):\r\n",
    "    if n <=1:\r\n",
    "        return (n, 0)\r\n",
    "    else:\r\n",
    "        (a,b) = goodFibo(n-1)\r\n",
    "        return (a+b, a)\r\n",
    "    \r\n",
    "goodFibo(32)"
   ],
   "outputs": [
    {
     "output_type": "execute_result",
     "data": {
      "text/plain": [
       "(2178309, 1346269)"
      ]
     },
     "metadata": {},
     "execution_count": 32
    }
   ],
   "metadata": {}
  },
  {
   "cell_type": "code",
   "execution_count": 33,
   "source": [
    "randomList.sum()"
   ],
   "outputs": [
    {
     "output_type": "execute_result",
     "data": {
      "text/plain": [
       "134482"
      ]
     },
     "metadata": {},
     "execution_count": 33
    }
   ],
   "metadata": {}
  },
  {
   "cell_type": "code",
   "execution_count": 36,
   "source": [
    "def quickSum(l=[],n=0):\r\n",
    "    '''\r\n",
    "    sum the n first elements of a list\r\n",
    "    '''\r\n",
    "    if n==0:\r\n",
    "        return 0\r\n",
    "    else:\r\n",
    "        return quickSum(l,n-1) + l[n-1]\r\n",
    "    \r\n",
    "quickSum(randomList,500)"
   ],
   "outputs": [
    {
     "output_type": "execute_result",
     "data": {
      "text/plain": [
       "134482"
      ]
     },
     "metadata": {},
     "execution_count": 36
    }
   ],
   "metadata": {}
  },
  {
   "cell_type": "code",
   "execution_count": 50,
   "source": [
    "def reverseScope(l, start,end):\r\n",
    "    if start < end - 1:\r\n",
    "        l[start],l[end-1] = l[end-1],l[start]\r\n",
    "        reverseScope(l,start+1,end-1)\r\n",
    "        \r\n",
    "# s = [1,2,3,4,5,8,6,7]\r\n",
    "s = np.random.randint(500, size=50000)\r\n",
    "reverseScope(s,20,3000)\r\n",
    "s"
   ],
   "outputs": [
    {
     "output_type": "execute_result",
     "data": {
      "text/plain": [
       "array([139, 283, 132, ..., 198, 355, 148])"
      ]
     },
     "metadata": {},
     "execution_count": 50
    }
   ],
   "metadata": {}
  },
  {
   "cell_type": "code",
   "execution_count": 70,
   "source": [
    "def power(n,m):\r\n",
    "    if m==0:\r\n",
    "        return 1\r\n",
    "    else:\r\n",
    "        return n*power(n,m-1)\r\n",
    "    \r\n",
    "power(4,2102)"
   ],
   "outputs": [
    {
     "output_type": "execute_result",
     "data": {
      "text/plain": [
       "338923569253138399317514105336942218239494541531691455906279988627590035909174044282053816764337206713803666877550408510732513731554414044943115799143637557763399332645385124598806105277129657072110305074443923686642565148458517161826955912057166897602464418503420727293059088758254308927076711360181454383605514612020804244245191089259708119041716791875228983295643626889601754420709047025806028238463301357541491080425474581202771318881710499149743775145640946797396444689420380171587834165659615123376739825725003029436091994688176641678383762489140812783572309026569256437283890529974768128394783965339248413911775099743063781238688227602231544414849505828341431796983745374452568451644926884368562330091383817083157224480701209500236609706436497153452813027593868783391430788311629902214772351273543403478715717320357239403893552275172979279338581164387091701929960653938235648167283259969157030664671975647420846376839793457302340896194077825248868111114603845954632640001017481030288391916053869903049092162472589101128344889899568541535676918858981165743398159466374365992176425300470208173020684506017430738909160806968715888252511050921813288562514059062776359824199189570902487248068536788345720757129740378814349975522334940298088978760493224243826262016"
      ]
     },
     "metadata": {},
     "execution_count": 70
    }
   ],
   "metadata": {}
  },
  {
   "cell_type": "code",
   "execution_count": 71,
   "source": [
    "def fasterPower(n,m):\r\n",
    "    if m == 0:\r\n",
    "        return 1\r\n",
    "    else:\r\n",
    "        partial = power(n, m//2)\r\n",
    "        res = partial*partial\r\n",
    "        if m%2 == 1:\r\n",
    "            res *= n\r\n",
    "        return res\r\n",
    "    \r\n",
    "fasterPower(4,2102)"
   ],
   "outputs": [
    {
     "output_type": "execute_result",
     "data": {
      "text/plain": [
       "338923569253138399317514105336942218239494541531691455906279988627590035909174044282053816764337206713803666877550408510732513731554414044943115799143637557763399332645385124598806105277129657072110305074443923686642565148458517161826955912057166897602464418503420727293059088758254308927076711360181454383605514612020804244245191089259708119041716791875228983295643626889601754420709047025806028238463301357541491080425474581202771318881710499149743775145640946797396444689420380171587834165659615123376739825725003029436091994688176641678383762489140812783572309026569256437283890529974768128394783965339248413911775099743063781238688227602231544414849505828341431796983745374452568451644926884368562330091383817083157224480701209500236609706436497153452813027593868783391430788311629902214772351273543403478715717320357239403893552275172979279338581164387091701929960653938235648167283259969157030664671975647420846376839793457302340896194077825248868111114603845954632640001017481030288391916053869903049092162472589101128344889899568541535676918858981165743398159466374365992176425300470208173020684506017430738909160806968715888252511050921813288562514059062776359824199189570902487248068536788345720757129740378814349975522334940298088978760493224243826262016"
      ]
     },
     "metadata": {},
     "execution_count": 71
    }
   ],
   "metadata": {}
  }
 ],
 "metadata": {
  "orig_nbformat": 4,
  "language_info": {
   "name": "python",
   "version": "3.7.4",
   "mimetype": "text/x-python",
   "codemirror_mode": {
    "name": "ipython",
    "version": 3
   },
   "pygments_lexer": "ipython3",
   "nbconvert_exporter": "python",
   "file_extension": ".py"
  },
  "kernelspec": {
   "name": "python3",
   "display_name": "Python 3.7.4 64-bit ('base': conda)"
  },
  "interpreter": {
   "hash": "ed3bb7afc59ed97cf88a0907716fbdc242e5af871b22b080c23a3e1b24d1e4e3"
  }
 },
 "nbformat": 4,
 "nbformat_minor": 2
}