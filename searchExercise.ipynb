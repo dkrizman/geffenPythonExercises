{
 "cells": [
  {
   "cell_type": "code",
   "execution_count": 17,
   "source": [
    "import random as rd\r\n",
    "import numpy as np\r\n",
    "\r\n",
    "randomList = np.random.randint(500, size=500)\r\n",
    "randomList.sort()"
   ],
   "outputs": [],
   "metadata": {}
  },
  {
   "cell_type": "code",
   "execution_count": 25,
   "source": [
    "randomList[197]\r\n",
    "# len(randomList)"
   ],
   "outputs": [
    {
     "output_type": "execute_result",
     "data": {
      "text/plain": [
       "230"
      ]
     },
     "metadata": {},
     "execution_count": 25
    }
   ],
   "metadata": {}
  },
  {
   "cell_type": "code",
   "execution_count": 24,
   "source": [
    "# randomList[8]\r\n",
    "\r\n",
    "def binSrc(sortedList,target, l, h):\r\n",
    "    if l>h:\r\n",
    "        print('target not found')\r\n",
    "    elif l == h:\r\n",
    "        return l\r\n",
    "    else: \r\n",
    "        mid = (h+l)//2\r\n",
    "        if target == sortedList[mid]:\r\n",
    "            return mid\r\n",
    "        elif target < sortedList[mid]:\r\n",
    "            return binSrc(sortedList, target, l,mid-1)\r\n",
    "        else:\r\n",
    "            return binSrc(sortedList, target, mid+1,h)\r\n",
    "    \r\n",
    "binSrc(randomList,230, 0,len(randomList))\r\n",
    "\r\n"
   ],
   "outputs": [
    {
     "output_type": "execute_result",
     "data": {
      "text/plain": [
       "197"
      ]
     },
     "metadata": {},
     "execution_count": 24
    }
   ],
   "metadata": {}
  }
 ],
 "metadata": {
  "orig_nbformat": 4,
  "language_info": {
   "name": "python",
   "version": "3.7.4",
   "mimetype": "text/x-python",
   "codemirror_mode": {
    "name": "ipython",
    "version": 3
   },
   "pygments_lexer": "ipython3",
   "nbconvert_exporter": "python",
   "file_extension": ".py"
  },
  "kernelspec": {
   "name": "python3",
   "display_name": "Python 3.7.4 64-bit ('base': conda)"
  },
  "interpreter": {
   "hash": "ed3bb7afc59ed97cf88a0907716fbdc242e5af871b22b080c23a3e1b24d1e4e3"
  }
 },
 "nbformat": 4,
 "nbformat_minor": 2
}