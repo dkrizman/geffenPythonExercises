{
 "cells": [
  {
   "cell_type": "code",
   "execution_count": 4,
   "metadata": {},
   "outputs": [],
   "source": [
    "class card:\n",
    "    def __init__(self, rank, suit):\n",
    "        self.rank = rank\n",
    "        self.suit = suit\n",
    "        self.hard, self.soft = self._points()\n",
    "        \n",
    "class numberCard(card):\n",
    "    def _points(self):\n",
    "        return int(self.rank), int(self.rank)\n",
    "    \n",
    "class aceCard(card):\n",
    "    def _points(self):\n",
    "        return 1,11\n",
    "    \n",
    "class faceCard(card):\n",
    "    def _points(self):\n",
    "        return 10,10"
   ]
  },
  {
   "cell_type": "code",
   "execution_count": 8,
   "metadata": {},
   "outputs": [],
   "source": [
    "class suit:\n",
    "    def __init__(self, name, symbol):\n",
    "        self.name = name\n",
    "        self.symbol = symbol\n",
    "        \n",
    "Club, Diamond, Heart, Spade = suit('Club','♣'), suit('Diamond','♦'),suit('Heart','♥'), suit('Spade','♠')"
   ]
  },
  {
   "cell_type": "code",
   "execution_count": 14,
   "metadata": {},
   "outputs": [],
   "source": [
    "a = aceCard('A', Spade)"
   ]
  },
  {
   "cell_type": "code",
   "execution_count": 15,
   "metadata": {},
   "outputs": [
    {
     "data": {
      "text/plain": [
       "'♠'"
      ]
     },
     "execution_count": 15,
     "metadata": {},
     "output_type": "execute_result"
    }
   ],
   "source": [
    "a.suit.symbol"
   ]
  },
  {
   "cell_type": "code",
   "execution_count": 34,
   "metadata": {},
   "outputs": [],
   "source": [
    "'''\n",
    "factory function\n",
    "'''\n",
    "def card(rank, suit):\n",
    "    if rank == 1: return aceCard('A', suit)\n",
    "    elif 2<=rank<11: return numberCard(str(rank), suit)\n",
    "    elif 11<=rank<14:\n",
    "        name = {11:'J', 12: 'Q', 13: 'K'}[rank]\n",
    "        return faceCard(name, suit)\n",
    "    else:\n",
    "        raise Exception('Rank out of range')\n",
    "        \n",
    "fourS = card(13,Spade)\n",
    "# fourS.suit.symbol"
   ]
  },
  {
   "cell_type": "code",
   "execution_count": 42,
   "metadata": {},
   "outputs": [
    {
     "data": {
      "text/plain": [
       "'♣'"
      ]
     },
     "execution_count": 42,
     "metadata": {},
     "output_type": "execute_result"
    }
   ],
   "source": [
    "def cardFactory() -> \"fullDeck\":\n",
    "    deck = [card(rank, suit)\n",
    "        for rank in range(1,14)\n",
    "            for suit in (Club, Diamond, Heart, Spade)]\n",
    "    return deck\n",
    "\n",
    "deck=cardFactory()\n",
    "deck[0].suit.symbol"
   ]
  },
  {
   "cell_type": "code",
   "execution_count": 43,
   "metadata": {},
   "outputs": [
    {
     "data": {
      "text/plain": [
       "{'return': 'fullDeck'}"
      ]
     },
     "execution_count": 43,
     "metadata": {},
     "output_type": "execute_result"
    }
   ],
   "source": [
    "cardFactory.__annotations__"
   ]
  },
  {
   "cell_type": "code",
   "execution_count": 45,
   "metadata": {},
   "outputs": [],
   "source": [
    "# using superclass\n",
    "\n",
    "class Card:\n",
    "    def __init__(self, rank, suit, hard, soft) -> \"Card\":\n",
    "        self.rank = rank\n",
    "        self.suit = suit\n",
    "        self.hard = hard\n",
    "        self.soft = soft\n",
    "        \n",
    "class NumberCard(Card):\n",
    "    def __init__(self, rank, suit) -> Card:\n",
    "        super().__init__(str(rank), suit, rank, rank)\n",
    "        \n",
    "class AceCard(Card):\n",
    "    def __init__(self, rank, suit) -> Card:\n",
    "        super().__init__(\"A\", suit, 1, 11)\n",
    "        \n",
    "class FaceCard(Card):\n",
    "    def __init__(self,rank,suit):\n",
    "        super().__init__({11:'J', 12:'Q', 13:'K'}[rank], suit, 10, 10)\n"
   ]
  },
  {
   "cell_type": "code",
   "execution_count": 46,
   "metadata": {},
   "outputs": [],
   "source": [
    "# factory function using the class with subclass init\n",
    "\n",
    "\n",
    "def card10(rank, suit):\n",
    "    if rank == 1:\n",
    "        return AceCard(rank, suit)\n",
    "    elif 2 <= rank < 11:\n",
    "        return NumberCard(rank, suit)\n",
    "    elif 11 <= rank < 14:\n",
    "        return FaceCard(rank, suit)\n",
    "    else:\n",
    "        raise Exception(\"Rank out of range\")\n"
   ]
  },
  {
   "cell_type": "code",
   "execution_count": 51,
   "metadata": {},
   "outputs": [
    {
     "data": {
      "text/plain": [
       "'Spade'"
      ]
     },
     "execution_count": 51,
     "metadata": {},
     "output_type": "execute_result"
    }
   ],
   "source": [
    "fourSpade = card10(4, Spade)\n",
    "fourSpade.suit.name"
   ]
  },
  {
   "cell_type": "code",
   "execution_count": 61,
   "metadata": {},
   "outputs": [],
   "source": [
    "# create data container for a deck - using WRAPPING method\n",
    "\n",
    "class Deck:\n",
    "    def __init__(self) -> \"Deck\":\n",
    "        import random\n",
    "        self._cards = [card10(r+1, s) for r in range(13) for s in (Club, Diamond, Spade, Heart)]\n",
    "        random.shuffle(self._cards)\n",
    "    \n",
    "    def pop(self) -> Card:\n",
    "        return self._cards.pop()\n",
    "    \n",
    "    def size(self) -> int:\n",
    "        return len(self._cards)"
   ]
  },
  {
   "cell_type": "code",
   "execution_count": 69,
   "metadata": {},
   "outputs": [
    {
     "data": {
      "text/plain": [
       "'Spade'"
      ]
     },
     "execution_count": 69,
     "metadata": {},
     "output_type": "execute_result"
    }
   ],
   "source": [
    "d = Deck()\n",
    "hand = [d.pop(), d.pop()]\n",
    "hand[0].suit.name\n",
    "# d.size()"
   ]
  },
  {
   "cell_type": "code",
   "execution_count": 70,
   "metadata": {},
   "outputs": [],
   "source": [
    "# create data container with multipul sets of decks\n",
    "\n",
    "class deck3(list):\n",
    "    def __init__(self, decks=1):\n",
    "        import random\n",
    "        super().__init__()\n",
    "        for i in range(decks):\n",
    "            self.extend(card10(r+1,s) for r in range(13) for s in (Club, Diamond, Spade, Heart))\n",
    "        random.shuffle(self)\n",
    "        burn = random.randint(1,52)\n",
    "        for i in range(burn):\n",
    "            self.pop()"
   ]
  },
  {
   "cell_type": "code",
   "execution_count": 77,
   "metadata": {},
   "outputs": [
    {
     "data": {
      "text/plain": [
       "27"
      ]
     },
     "execution_count": 77,
     "metadata": {},
     "output_type": "execute_result"
    }
   ],
   "source": [
    "d3 = deck3(1)\n",
    "len(d3)"
   ]
  },
  {
   "cell_type": "code",
   "execution_count": 78,
   "metadata": {},
   "outputs": [
    {
     "data": {
      "text/plain": [
       "[1, 2, 3, 1, 2, 3, 4, 5, 6, 7, 8, 9]"
      ]
     },
     "execution_count": 78,
     "metadata": {},
     "output_type": "execute_result"
    }
   ],
   "source": []
  }
 ],
 "metadata": {
  "kernelspec": {
   "display_name": "base",
   "language": "python",
   "name": "python3"
  },
  "language_info": {
   "codemirror_mode": {
    "name": "ipython",
    "version": 3
   },
   "file_extension": ".py",
   "mimetype": "text/x-python",
   "name": "python",
   "nbconvert_exporter": "python",
   "pygments_lexer": "ipython3",
   "version": "3.7.4"
  },
  "orig_nbformat": 4
 },
 "nbformat": 4,
 "nbformat_minor": 2
}
