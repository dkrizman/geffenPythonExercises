{
 "metadata": {
  "language_info": {
   "codemirror_mode": {
    "name": "ipython",
    "version": 3
   },
   "file_extension": ".py",
   "mimetype": "text/x-python",
   "name": "python",
   "nbconvert_exporter": "python",
   "pygments_lexer": "ipython3",
   "version": "3.7.4"
  },
  "orig_nbformat": 2,
  "kernelspec": {
   "name": "python374jvsc74a57bd0ed3bb7afc59ed97cf88a0907716fbdc242e5af871b22b080c23a3e1b24d1e4e3",
   "display_name": "Python 3.7.4 64-bit ('base': conda)"
  }
 },
 "nbformat": 4,
 "nbformat_minor": 2,
 "cells": [
  {
   "cell_type": "code",
   "execution_count": 44,
   "metadata": {},
   "outputs": [],
   "source": [
    "class dog:\n",
    "    species = 'Cocker Spaniel'\n",
    "    def __init__(self, name, age):\n",
    "        self.name = name\n",
    "        self.age = age\n",
    "\n",
    "    def __srt__(self):\n",
    "        return f\"{self.name} is {self.age} years old\"\n",
    "\n",
    "    def sqrAge(self):\n",
    "        return self.age**2\n",
    "\n",
    "    # def description(self):\n",
    "    #     return f\"{self.name} is {self.age} years old\""
   ]
  },
  {
   "cell_type": "code",
   "execution_count": 50,
   "metadata": {},
   "outputs": [
    {
     "output_type": "execute_result",
     "data": {
      "text/plain": [
       "'abe is 12 years old'"
      ]
     },
     "metadata": {},
     "execution_count": 50
    }
   ],
   "source": [
    "a = dog('abe', 12)\n",
    "a.age\n",
    "a.__srt__()"
   ]
  },
  {
   "cell_type": "code",
   "execution_count": 21,
   "metadata": {},
   "outputs": [
    {
     "output_type": "execute_result",
     "data": {
      "text/plain": [
       "'abe is 12 years old'"
      ]
     },
     "metadata": {},
     "execution_count": 21
    }
   ],
   "source": [
    "a.description()"
   ]
  },
  {
   "cell_type": "code",
   "execution_count": 40,
   "metadata": {},
   "outputs": [
    {
     "output_type": "execute_result",
     "data": {
      "text/plain": [
       "'miles is 3 years old'"
      ]
     },
     "metadata": {},
     "execution_count": 40
    }
   ],
   "source": [
    "b=dog('miles', 3)\n",
    "b.description()"
   ]
  },
  {
   "cell_type": "code",
   "execution_count": 31,
   "metadata": {},
   "outputs": [],
   "source": [
    "class jack(dog):\n",
    "    pass\n",
    "\n",
    "jack.name = 'jack'\n",
    "jack.age = 10\n",
    "# jack.description()"
   ]
  }
 ]
}